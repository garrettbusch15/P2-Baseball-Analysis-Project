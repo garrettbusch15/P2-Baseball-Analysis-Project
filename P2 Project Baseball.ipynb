{
 "cells": [
  {
   "cell_type": "markdown",
   "metadata": {},
   "source": [
    "# P2 Project Submission\n",
    "### By Garrett Busch \n",
    "### Mar 2017\n",
    "\n",
    "## Introduction \n",
    "\n",
    "Baseball has long been considered America's pasttime.  It's hard to argue with considering the continued success, world intrigue, baseball coliseum's and the oh-so unforgetable comfort food. Looking past these inviting activities, your left with a game, just a game. This game, for the most part, has been played almost exactly the same way for 100+ years. 1 of the major reasons baseball has remained the same (aside from some mound changes, strikezone variation, baseball technology)  is because of the prevalence of statistics. \n",
    "\n",
    "In today's game, we have what are called saber-metrics that look to compare anything from  offensive prowess to defensive efficiency to pitcher accuracy & pitch selection.  In this project we will engineer our own metric for offensive ability as we work with a dataset that is geared toward traditional baseball data points (Hit, At Bat, Home Run, etc.). The purpose of this project is to provide a logical data analysis project that ultimately seeks to help answer questions I pose.\n",
    "\n",
    "Let's get started.\n",
    "\n",
    "http://www.billjamesonline.com/article785/\n",
    "\n",
    "http://pandas.pydata.org/pandas-docs/stable/merging.html\n",
    "\n",
    "## Questions to be answered\n",
    "\n",
    "In terms of individual and team performance, what were some of the  greatest disparities from an individuals season vs. the next best on the team? (an unequivocal MVP)\n",
    "\n",
    "What players, over the course of their careers, had constantly faced the above matched environment?\n",
    "[See answer](#question1)\n",
    "\n",
    "Did the above scenario's have any show any interesting trends when it comes to individual end-of-season awards?\n",
    "\n",
    "How did team's fare that matched this particular condition? Can a player truly \"carry\" the whole team?\n",
    "\n",
    "Aside from comparing individual vs. team how did players born from \"warm\" weather states fare in comparison to those that wern't?\n",
    "\n",
    "##  Verify and checking data\n",
    "\n",
    "Generally, we'd like to take an initial dive into the data either to identify holes, anomolies, etc.. \n",
    "\n",
    "We'll need to import some initial libraries."
   ]
  },
  {
   "cell_type": "code",
   "execution_count": 1,
   "metadata": {
    "collapsed": true
   },
   "outputs": [],
   "source": [
    "import numpy as np\n",
    "import pandas as pd\n",
    "import matplotlib.pyplot as plt\n",
    "from datetime import datetime\n",
    "plt.style.use('ggplot')\n",
    "%matplotlib inline"
   ]
  },
  {
   "cell_type": "markdown",
   "metadata": {},
   "source": [
    "Lets also  include the links to the associated data."
   ]
  },
  {
   "cell_type": "code",
   "execution_count": 2,
   "metadata": {
    "collapsed": true
   },
   "outputs": [],
   "source": [
    "GHreposit = \"https://raw.githubusercontent.com/garrettbusch15/P2-Baseball-Analysis-Project/\"\n",
    "subfolder = \"master/Data/\""
   ]
  },
  {
   "cell_type": "markdown",
   "metadata": {},
   "source": [
    "Now read the data in."
   ]
  },
  {
   "cell_type": "code",
   "execution_count": 3,
   "metadata": {
    "collapsed": false
   },
   "outputs": [],
   "source": [
    "# Shift-Tab to see paramters/help for function\n",
    "fileMaster = pd.read_csv(GHreposit + subfolder + 'Master.csv')\n",
    "fileBatting = pd.read_csv(GHreposit + subfolder + 'Batting.csv')\n",
    "fileAppearance = pd.read_csv(GHreposit + subfolder + 'Appearances.csv')\n",
    "fileSalaries = pd.read_csv(GHreposit + subfolder + 'Salaries.csv')\n",
    "fileHOF = pd.read_csv(GHreposit + subfolder + 'HallOfFame.csv')\n",
    "fileAwards = pd.read_csv(GHreposit + subfolder + 'AwardsPlayers.csv')"
   ]
  },
  {
   "cell_type": "code",
   "execution_count": 4,
   "metadata": {
    "collapsed": false
   },
   "outputs": [
    {
     "data": {
      "text/html": [
       "<div>\n",
       "<table border=\"1\" class=\"dataframe\">\n",
       "  <thead>\n",
       "    <tr style=\"text-align: right;\">\n",
       "      <th></th>\n",
       "      <th>playerID</th>\n",
       "      <th>birthYear</th>\n",
       "      <th>birthMonth</th>\n",
       "      <th>birthDay</th>\n",
       "      <th>birthCountry</th>\n",
       "      <th>birthState</th>\n",
       "      <th>birthCity</th>\n",
       "      <th>deathYear</th>\n",
       "      <th>deathMonth</th>\n",
       "      <th>deathDay</th>\n",
       "      <th>...</th>\n",
       "      <th>nameLast</th>\n",
       "      <th>nameGiven</th>\n",
       "      <th>weight</th>\n",
       "      <th>height</th>\n",
       "      <th>bats</th>\n",
       "      <th>throws</th>\n",
       "      <th>debut</th>\n",
       "      <th>finalGame</th>\n",
       "      <th>retroID</th>\n",
       "      <th>bbrefID</th>\n",
       "    </tr>\n",
       "  </thead>\n",
       "  <tbody>\n",
       "    <tr>\n",
       "      <th>0</th>\n",
       "      <td>aardsda01</td>\n",
       "      <td>1981.0</td>\n",
       "      <td>12.0</td>\n",
       "      <td>27.0</td>\n",
       "      <td>USA</td>\n",
       "      <td>CO</td>\n",
       "      <td>Denver</td>\n",
       "      <td>NaN</td>\n",
       "      <td>NaN</td>\n",
       "      <td>NaN</td>\n",
       "      <td>...</td>\n",
       "      <td>Aardsma</td>\n",
       "      <td>David Allan</td>\n",
       "      <td>205.0</td>\n",
       "      <td>75.0</td>\n",
       "      <td>R</td>\n",
       "      <td>R</td>\n",
       "      <td>4/6/2004</td>\n",
       "      <td>9/28/2013</td>\n",
       "      <td>aardd001</td>\n",
       "      <td>aardsda01</td>\n",
       "    </tr>\n",
       "    <tr>\n",
       "      <th>1</th>\n",
       "      <td>aaronha01</td>\n",
       "      <td>1934.0</td>\n",
       "      <td>2.0</td>\n",
       "      <td>5.0</td>\n",
       "      <td>USA</td>\n",
       "      <td>AL</td>\n",
       "      <td>Mobile</td>\n",
       "      <td>NaN</td>\n",
       "      <td>NaN</td>\n",
       "      <td>NaN</td>\n",
       "      <td>...</td>\n",
       "      <td>Aaron</td>\n",
       "      <td>Henry Louis</td>\n",
       "      <td>180.0</td>\n",
       "      <td>72.0</td>\n",
       "      <td>R</td>\n",
       "      <td>R</td>\n",
       "      <td>4/13/1954</td>\n",
       "      <td>10/3/1976</td>\n",
       "      <td>aaroh101</td>\n",
       "      <td>aaronha01</td>\n",
       "    </tr>\n",
       "    <tr>\n",
       "      <th>2</th>\n",
       "      <td>aaronto01</td>\n",
       "      <td>1939.0</td>\n",
       "      <td>8.0</td>\n",
       "      <td>5.0</td>\n",
       "      <td>USA</td>\n",
       "      <td>AL</td>\n",
       "      <td>Mobile</td>\n",
       "      <td>1984.0</td>\n",
       "      <td>8.0</td>\n",
       "      <td>16.0</td>\n",
       "      <td>...</td>\n",
       "      <td>Aaron</td>\n",
       "      <td>Tommie Lee</td>\n",
       "      <td>190.0</td>\n",
       "      <td>75.0</td>\n",
       "      <td>R</td>\n",
       "      <td>R</td>\n",
       "      <td>4/10/1962</td>\n",
       "      <td>9/26/1971</td>\n",
       "      <td>aarot101</td>\n",
       "      <td>aaronto01</td>\n",
       "    </tr>\n",
       "    <tr>\n",
       "      <th>3</th>\n",
       "      <td>aasedo01</td>\n",
       "      <td>1954.0</td>\n",
       "      <td>9.0</td>\n",
       "      <td>8.0</td>\n",
       "      <td>USA</td>\n",
       "      <td>CA</td>\n",
       "      <td>Orange</td>\n",
       "      <td>NaN</td>\n",
       "      <td>NaN</td>\n",
       "      <td>NaN</td>\n",
       "      <td>...</td>\n",
       "      <td>Aase</td>\n",
       "      <td>Donald William</td>\n",
       "      <td>190.0</td>\n",
       "      <td>75.0</td>\n",
       "      <td>R</td>\n",
       "      <td>R</td>\n",
       "      <td>7/26/1977</td>\n",
       "      <td>10/3/1990</td>\n",
       "      <td>aased001</td>\n",
       "      <td>aasedo01</td>\n",
       "    </tr>\n",
       "    <tr>\n",
       "      <th>4</th>\n",
       "      <td>abadan01</td>\n",
       "      <td>1972.0</td>\n",
       "      <td>8.0</td>\n",
       "      <td>25.0</td>\n",
       "      <td>USA</td>\n",
       "      <td>FL</td>\n",
       "      <td>Palm Beach</td>\n",
       "      <td>NaN</td>\n",
       "      <td>NaN</td>\n",
       "      <td>NaN</td>\n",
       "      <td>...</td>\n",
       "      <td>Abad</td>\n",
       "      <td>Fausto Andres</td>\n",
       "      <td>184.0</td>\n",
       "      <td>73.0</td>\n",
       "      <td>L</td>\n",
       "      <td>L</td>\n",
       "      <td>9/10/2001</td>\n",
       "      <td>4/13/2006</td>\n",
       "      <td>abada001</td>\n",
       "      <td>abadan01</td>\n",
       "    </tr>\n",
       "  </tbody>\n",
       "</table>\n",
       "<p>5 rows × 24 columns</p>\n",
       "</div>"
      ],
      "text/plain": [
       "    playerID  birthYear  birthMonth  birthDay birthCountry birthState  \\\n",
       "0  aardsda01     1981.0        12.0      27.0          USA         CO   \n",
       "1  aaronha01     1934.0         2.0       5.0          USA         AL   \n",
       "2  aaronto01     1939.0         8.0       5.0          USA         AL   \n",
       "3   aasedo01     1954.0         9.0       8.0          USA         CA   \n",
       "4   abadan01     1972.0         8.0      25.0          USA         FL   \n",
       "\n",
       "    birthCity  deathYear  deathMonth  deathDay    ...     nameLast  \\\n",
       "0      Denver        NaN         NaN       NaN    ...      Aardsma   \n",
       "1      Mobile        NaN         NaN       NaN    ...        Aaron   \n",
       "2      Mobile     1984.0         8.0      16.0    ...        Aaron   \n",
       "3      Orange        NaN         NaN       NaN    ...         Aase   \n",
       "4  Palm Beach        NaN         NaN       NaN    ...         Abad   \n",
       "\n",
       "        nameGiven weight height bats throws      debut  finalGame   retroID  \\\n",
       "0     David Allan  205.0   75.0    R      R   4/6/2004  9/28/2013  aardd001   \n",
       "1     Henry Louis  180.0   72.0    R      R  4/13/1954  10/3/1976  aaroh101   \n",
       "2      Tommie Lee  190.0   75.0    R      R  4/10/1962  9/26/1971  aarot101   \n",
       "3  Donald William  190.0   75.0    R      R  7/26/1977  10/3/1990  aased001   \n",
       "4   Fausto Andres  184.0   73.0    L      L  9/10/2001  4/13/2006  abada001   \n",
       "\n",
       "     bbrefID  \n",
       "0  aardsda01  \n",
       "1  aaronha01  \n",
       "2  aaronto01  \n",
       "3   aasedo01  \n",
       "4   abadan01  \n",
       "\n",
       "[5 rows x 24 columns]"
      ]
     },
     "execution_count": 4,
     "metadata": {},
     "output_type": "execute_result"
    }
   ],
   "source": [
    "fileMaster.head(5)"
   ]
  },
  {
   "cell_type": "markdown",
   "metadata": {},
   "source": [
    "The master seems like the best place to start.  We have a few different fields in the Master dataframe including text, dates and floating numbers.  There are a few fields worth filling out even if we may not neccessarily be directly using the fields in this analysis."
   ]
  },
  {
   "cell_type": "code",
   "execution_count": 5,
   "metadata": {
    "collapsed": true
   },
   "outputs": [],
   "source": [
    "# 1/24/15 is the date of this data's publishing\n",
    "fileMaster['finalGame'].fillna('1/24/2015', inplace=True)\n",
    "fileMaster['debut'] = pd.to_datetime(fileMaster['debut'])\n",
    "fileMaster['finalGame'] = pd.to_datetime(fileMaster['finalGame'])"
   ]
  },
  {
   "cell_type": "markdown",
   "metadata": {},
   "source": [
    "We also will have a few fields that can simply  be calculated by what we have available that may be useful down the road."
   ]
  },
  {
   "cell_type": "code",
   "execution_count": 6,
   "metadata": {
    "collapsed": false
   },
   "outputs": [],
   "source": [
    "fileMaster['careerLength'] = fileMaster['finalGame'] - fileMaster['debut']"
   ]
  },
  {
   "cell_type": "markdown",
   "metadata": {},
   "source": [
    "One of the questions we've outlined above wants to see performance results of 'warm-weather born players' vs. all the others. The 'warm-weather' states have been outlined above but are is generally the southern half of the US."
   ]
  },
  {
   "cell_type": "code",
   "execution_count": 7,
   "metadata": {
    "collapsed": true
   },
   "outputs": [],
   "source": [
    "fair_weather_stats = ['CA','TX','FL','AZ','NV','NM', 'GA', 'LA', 'AL', 'MS']"
   ]
  },
  {
   "cell_type": "code",
   "execution_count": 8,
   "metadata": {
    "collapsed": false
   },
   "outputs": [],
   "source": [
    "fileMaster['StateWeather'] = fileMaster['birthState'].map(lambda x: True if x in fair_weather_stats else False)"
   ]
  },
  {
   "cell_type": "markdown",
   "metadata": {},
   "source": [
    "At this point, below is what the master dataframe looks like:"
   ]
  },
  {
   "cell_type": "code",
   "execution_count": 9,
   "metadata": {
    "collapsed": false
   },
   "outputs": [
    {
     "data": {
      "text/html": [
       "<div>\n",
       "<table border=\"1\" class=\"dataframe\">\n",
       "  <thead>\n",
       "    <tr style=\"text-align: right;\">\n",
       "      <th></th>\n",
       "      <th>playerID</th>\n",
       "      <th>birthYear</th>\n",
       "      <th>birthMonth</th>\n",
       "      <th>birthDay</th>\n",
       "      <th>birthCountry</th>\n",
       "      <th>birthState</th>\n",
       "      <th>birthCity</th>\n",
       "      <th>deathYear</th>\n",
       "      <th>deathMonth</th>\n",
       "      <th>deathDay</th>\n",
       "      <th>...</th>\n",
       "      <th>weight</th>\n",
       "      <th>height</th>\n",
       "      <th>bats</th>\n",
       "      <th>throws</th>\n",
       "      <th>debut</th>\n",
       "      <th>finalGame</th>\n",
       "      <th>retroID</th>\n",
       "      <th>bbrefID</th>\n",
       "      <th>careerLength</th>\n",
       "      <th>StateWeather</th>\n",
       "    </tr>\n",
       "  </thead>\n",
       "  <tbody>\n",
       "    <tr>\n",
       "      <th>0</th>\n",
       "      <td>aardsda01</td>\n",
       "      <td>1981.0</td>\n",
       "      <td>12.0</td>\n",
       "      <td>27.0</td>\n",
       "      <td>USA</td>\n",
       "      <td>CO</td>\n",
       "      <td>Denver</td>\n",
       "      <td>NaN</td>\n",
       "      <td>NaN</td>\n",
       "      <td>NaN</td>\n",
       "      <td>...</td>\n",
       "      <td>205.0</td>\n",
       "      <td>75.0</td>\n",
       "      <td>R</td>\n",
       "      <td>R</td>\n",
       "      <td>2004-04-06</td>\n",
       "      <td>2013-09-28</td>\n",
       "      <td>aardd001</td>\n",
       "      <td>aardsda01</td>\n",
       "      <td>3462 days</td>\n",
       "      <td>False</td>\n",
       "    </tr>\n",
       "  </tbody>\n",
       "</table>\n",
       "<p>1 rows × 26 columns</p>\n",
       "</div>"
      ],
      "text/plain": [
       "    playerID  birthYear  birthMonth  birthDay birthCountry birthState  \\\n",
       "0  aardsda01     1981.0        12.0      27.0          USA         CO   \n",
       "\n",
       "  birthCity  deathYear  deathMonth  deathDay     ...      weight height bats  \\\n",
       "0    Denver        NaN         NaN       NaN     ...       205.0   75.0    R   \n",
       "\n",
       "  throws      debut  finalGame   retroID    bbrefID careerLength StateWeather  \n",
       "0      R 2004-04-06 2013-09-28  aardd001  aardsda01    3462 days        False  \n",
       "\n",
       "[1 rows x 26 columns]"
      ]
     },
     "execution_count": 9,
     "metadata": {},
     "output_type": "execute_result"
    }
   ],
   "source": [
    "fileMaster.head(1)"
   ]
  },
  {
   "cell_type": "markdown",
   "metadata": {},
   "source": [
    "We can now look to round out the batting dataframe of the data.\n",
    "For this there are a number of common statistics i.e. batting average, on-base percentage, slugging and OPS+ that are not included in the data. Also, we will add one measurement which is a product of AB's and OPS+, which attempts to model the contributed offensive effort are player added in a season. It is this measurement that we will use to measure value added by a players contribution. In a more  comprehensive dataset this would be known as \"WAR\" or wins-above-replacement.\n",
    "\n",
    "*Generally, these statistics are rounded to 3 decimal places for presentation.\n",
    "\n",
    "**The below resulting dataframe essentially gives us performance by player by season."
   ]
  },
  {
   "cell_type": "code",
   "execution_count": 10,
   "metadata": {
    "collapsed": false
   },
   "outputs": [],
   "source": [
    "def c_num(s):\n",
    "    try:\n",
    "        return float(s)\n",
    "    except Exception:\n",
    "        return 0\n",
    "def f_Avg(AB, H):\n",
    "    return round(H / AB,3)\n",
    "def f_Obp(H,BB,IBB,HBP,SF,AB):\n",
    "    n = (H + BB + HBP)\n",
    "    d = (AB + BB + HBP + SF)\n",
    "    return round(n / d,3)\n",
    "def f_Slug(H, Dbl, Trpl, HR, AB):\n",
    "    return round(((H - Dbl - Trpl - HR) + (Dbl * 2) + (Trpl * 3) + (HR * 4)) / AB,3)"
   ]
  },
  {
   "cell_type": "markdown",
   "metadata": {},
   "source": [
    "Now these calculation will be used in calculating the dataframe."
   ]
  },
  {
   "cell_type": "code",
   "execution_count": 11,
   "metadata": {
    "collapsed": false
   },
   "outputs": [],
   "source": [
    "# Insert common hitting statistics into batting dataframe\n",
    "fileBatting.fillna(0, inplace=True)\n",
    "fileBatting['statBA'] = fileBatting.apply(lambda row: f_Avg(row['AB'],row['H']) if row['AB'] != 0 else 0, axis=1)\n",
    "fileBatting['statOBP'] = fileBatting.apply(lambda row: f_Obp(row['H'],row['BB'],row['IBB'],row['HBP'],row['SF'],row['AB']) if (row['AB']+ row['BB'] + row['HBP'] + row['SF']) != 0 else 0, axis=1)\n",
    "fileBatting['statSLUG'] = fileBatting.apply(lambda row: f_Slug(row['H'],row['2B'],row['3B'],row['HR'],row['AB']) if row['AB'] != 0 else 0, axis=1)\n",
    "fileBatting['statOPS+'] = fileBatting['statOBP'] + fileBatting['statSLUG']\n",
    "fileBatting['statOpsWght'] = fileBatting.apply(lambda row: (row['statOPS+'] * row['AB']), axis=1)"
   ]
  },
  {
   "cell_type": "markdown",
   "metadata": {},
   "source": [
    "We will also add a TRUE/FALSE column for MVP award.."
   ]
  },
  {
   "cell_type": "markdown",
   "metadata": {},
   "source": [
    "What different type of awards are in this dataset? (fileAwards)"
   ]
  },
  {
   "cell_type": "code",
   "execution_count": 12,
   "metadata": {
    "collapsed": false
   },
   "outputs": [
    {
     "data": {
      "text/plain": [
       "array(['Pitching Triple Crown', 'Triple Crown',\n",
       "       'Baseball Magazine All-Star', 'Most Valuable Player',\n",
       "       'TSN All-Star', 'TSN Guide MVP',\n",
       "       'TSN Major League Player of the Year', 'TSN Pitcher of the Year',\n",
       "       'TSN Player of the Year', 'Rookie of the Year', 'Babe Ruth Award',\n",
       "       'Lou Gehrig Memorial Award', 'World Series MVP', 'Cy Young Award',\n",
       "       'Gold Glove', 'TSN Fireman of the Year', 'All-Star Game MVP',\n",
       "       'Hutch Award', 'Roberto Clemente Award', 'Rolaids Relief Man Award',\n",
       "       'NLCS MVP', 'ALCS MVP', 'Silver Slugger', 'Branch Rickey Award',\n",
       "       'Hank Aaron Award', 'TSN Reliever of the Year',\n",
       "       'Comeback Player of the Year'], dtype=object)"
      ]
     },
     "execution_count": 12,
     "metadata": {},
     "output_type": "execute_result"
    }
   ],
   "source": [
    "fileAwards.awardID.unique()"
   ]
  },
  {
   "cell_type": "markdown",
   "metadata": {},
   "source": [
    "As we want \"Most Valuable Player\" (in each respective league) we can code this as so.."
   ]
  },
  {
   "cell_type": "code",
   "execution_count": null,
   "metadata": {
    "collapsed": true
   },
   "outputs": [],
   "source": [
    "fileBatting."
   ]
  },
  {
   "cell_type": "code",
   "execution_count": 13,
   "metadata": {
    "collapsed": false
   },
   "outputs": [
    {
     "data": {
      "text/html": [
       "<div>\n",
       "<table border=\"1\" class=\"dataframe\">\n",
       "  <thead>\n",
       "    <tr style=\"text-align: right;\">\n",
       "      <th></th>\n",
       "      <th>playerID</th>\n",
       "      <th>yearID</th>\n",
       "      <th>stint</th>\n",
       "      <th>teamID</th>\n",
       "      <th>lgID</th>\n",
       "      <th>G</th>\n",
       "      <th>AB</th>\n",
       "      <th>R</th>\n",
       "      <th>H</th>\n",
       "      <th>2B</th>\n",
       "      <th>...</th>\n",
       "      <th>HBP</th>\n",
       "      <th>SH</th>\n",
       "      <th>SF</th>\n",
       "      <th>GIDP</th>\n",
       "      <th>statBA</th>\n",
       "      <th>statOBP</th>\n",
       "      <th>statSLUG</th>\n",
       "      <th>statOPS+</th>\n",
       "      <th>statOpsWght</th>\n",
       "      <th>MVP</th>\n",
       "    </tr>\n",
       "  </thead>\n",
       "  <tbody>\n",
       "    <tr>\n",
       "      <th>29609</th>\n",
       "      <td>musiast01</td>\n",
       "      <td>1941</td>\n",
       "      <td>1</td>\n",
       "      <td>SLN</td>\n",
       "      <td>NL</td>\n",
       "      <td>12</td>\n",
       "      <td>47.0</td>\n",
       "      <td>8.0</td>\n",
       "      <td>20.0</td>\n",
       "      <td>4.0</td>\n",
       "      <td>...</td>\n",
       "      <td>0.0</td>\n",
       "      <td>0.0</td>\n",
       "      <td>0.0</td>\n",
       "      <td>0.0</td>\n",
       "      <td>0.426</td>\n",
       "      <td>0.449</td>\n",
       "      <td>0.574</td>\n",
       "      <td>1.023</td>\n",
       "      <td>48.081</td>\n",
       "      <td>False</td>\n",
       "    </tr>\n",
       "    <tr>\n",
       "      <th>30164</th>\n",
       "      <td>musiast01</td>\n",
       "      <td>1942</td>\n",
       "      <td>1</td>\n",
       "      <td>SLN</td>\n",
       "      <td>NL</td>\n",
       "      <td>140</td>\n",
       "      <td>467.0</td>\n",
       "      <td>87.0</td>\n",
       "      <td>147.0</td>\n",
       "      <td>32.0</td>\n",
       "      <td>...</td>\n",
       "      <td>2.0</td>\n",
       "      <td>5.0</td>\n",
       "      <td>0.0</td>\n",
       "      <td>3.0</td>\n",
       "      <td>0.315</td>\n",
       "      <td>0.397</td>\n",
       "      <td>0.490</td>\n",
       "      <td>0.887</td>\n",
       "      <td>414.229</td>\n",
       "      <td>False</td>\n",
       "    </tr>\n",
       "    <tr>\n",
       "      <th>30707</th>\n",
       "      <td>musiast01</td>\n",
       "      <td>1943</td>\n",
       "      <td>1</td>\n",
       "      <td>SLN</td>\n",
       "      <td>NL</td>\n",
       "      <td>157</td>\n",
       "      <td>617.0</td>\n",
       "      <td>108.0</td>\n",
       "      <td>220.0</td>\n",
       "      <td>48.0</td>\n",
       "      <td>...</td>\n",
       "      <td>2.0</td>\n",
       "      <td>10.0</td>\n",
       "      <td>0.0</td>\n",
       "      <td>17.0</td>\n",
       "      <td>0.357</td>\n",
       "      <td>0.425</td>\n",
       "      <td>0.562</td>\n",
       "      <td>0.987</td>\n",
       "      <td>608.979</td>\n",
       "      <td>False</td>\n",
       "    </tr>\n",
       "    <tr>\n",
       "      <th>31263</th>\n",
       "      <td>musiast01</td>\n",
       "      <td>1944</td>\n",
       "      <td>1</td>\n",
       "      <td>SLN</td>\n",
       "      <td>NL</td>\n",
       "      <td>146</td>\n",
       "      <td>568.0</td>\n",
       "      <td>112.0</td>\n",
       "      <td>197.0</td>\n",
       "      <td>51.0</td>\n",
       "      <td>...</td>\n",
       "      <td>5.0</td>\n",
       "      <td>4.0</td>\n",
       "      <td>0.0</td>\n",
       "      <td>7.0</td>\n",
       "      <td>0.347</td>\n",
       "      <td>0.440</td>\n",
       "      <td>0.549</td>\n",
       "      <td>0.989</td>\n",
       "      <td>561.752</td>\n",
       "      <td>False</td>\n",
       "    </tr>\n",
       "    <tr>\n",
       "      <th>32497</th>\n",
       "      <td>musiast01</td>\n",
       "      <td>1946</td>\n",
       "      <td>1</td>\n",
       "      <td>SLN</td>\n",
       "      <td>NL</td>\n",
       "      <td>156</td>\n",
       "      <td>624.0</td>\n",
       "      <td>124.0</td>\n",
       "      <td>228.0</td>\n",
       "      <td>50.0</td>\n",
       "      <td>...</td>\n",
       "      <td>3.0</td>\n",
       "      <td>2.0</td>\n",
       "      <td>0.0</td>\n",
       "      <td>7.0</td>\n",
       "      <td>0.365</td>\n",
       "      <td>0.434</td>\n",
       "      <td>0.587</td>\n",
       "      <td>1.021</td>\n",
       "      <td>637.104</td>\n",
       "      <td>False</td>\n",
       "    </tr>\n",
       "    <tr>\n",
       "      <th>33100</th>\n",
       "      <td>musiast01</td>\n",
       "      <td>1947</td>\n",
       "      <td>1</td>\n",
       "      <td>SLN</td>\n",
       "      <td>NL</td>\n",
       "      <td>149</td>\n",
       "      <td>587.0</td>\n",
       "      <td>113.0</td>\n",
       "      <td>183.0</td>\n",
       "      <td>30.0</td>\n",
       "      <td>...</td>\n",
       "      <td>4.0</td>\n",
       "      <td>6.0</td>\n",
       "      <td>0.0</td>\n",
       "      <td>18.0</td>\n",
       "      <td>0.312</td>\n",
       "      <td>0.398</td>\n",
       "      <td>0.504</td>\n",
       "      <td>0.902</td>\n",
       "      <td>529.474</td>\n",
       "      <td>False</td>\n",
       "    </tr>\n",
       "    <tr>\n",
       "      <th>33669</th>\n",
       "      <td>musiast01</td>\n",
       "      <td>1948</td>\n",
       "      <td>1</td>\n",
       "      <td>SLN</td>\n",
       "      <td>NL</td>\n",
       "      <td>155</td>\n",
       "      <td>611.0</td>\n",
       "      <td>135.0</td>\n",
       "      <td>230.0</td>\n",
       "      <td>46.0</td>\n",
       "      <td>...</td>\n",
       "      <td>3.0</td>\n",
       "      <td>1.0</td>\n",
       "      <td>0.0</td>\n",
       "      <td>18.0</td>\n",
       "      <td>0.376</td>\n",
       "      <td>0.450</td>\n",
       "      <td>0.702</td>\n",
       "      <td>1.152</td>\n",
       "      <td>703.872</td>\n",
       "      <td>False</td>\n",
       "    </tr>\n",
       "    <tr>\n",
       "      <th>34240</th>\n",
       "      <td>musiast01</td>\n",
       "      <td>1949</td>\n",
       "      <td>1</td>\n",
       "      <td>SLN</td>\n",
       "      <td>NL</td>\n",
       "      <td>157</td>\n",
       "      <td>612.0</td>\n",
       "      <td>128.0</td>\n",
       "      <td>207.0</td>\n",
       "      <td>41.0</td>\n",
       "      <td>...</td>\n",
       "      <td>2.0</td>\n",
       "      <td>0.0</td>\n",
       "      <td>0.0</td>\n",
       "      <td>12.0</td>\n",
       "      <td>0.338</td>\n",
       "      <td>0.438</td>\n",
       "      <td>0.624</td>\n",
       "      <td>1.062</td>\n",
       "      <td>649.944</td>\n",
       "      <td>False</td>\n",
       "    </tr>\n",
       "    <tr>\n",
       "      <th>34819</th>\n",
       "      <td>musiast01</td>\n",
       "      <td>1950</td>\n",
       "      <td>1</td>\n",
       "      <td>SLN</td>\n",
       "      <td>NL</td>\n",
       "      <td>146</td>\n",
       "      <td>555.0</td>\n",
       "      <td>105.0</td>\n",
       "      <td>192.0</td>\n",
       "      <td>41.0</td>\n",
       "      <td>...</td>\n",
       "      <td>3.0</td>\n",
       "      <td>0.0</td>\n",
       "      <td>0.0</td>\n",
       "      <td>11.0</td>\n",
       "      <td>0.346</td>\n",
       "      <td>0.437</td>\n",
       "      <td>0.596</td>\n",
       "      <td>1.033</td>\n",
       "      <td>573.315</td>\n",
       "      <td>False</td>\n",
       "    </tr>\n",
       "    <tr>\n",
       "      <th>35424</th>\n",
       "      <td>musiast01</td>\n",
       "      <td>1951</td>\n",
       "      <td>1</td>\n",
       "      <td>SLN</td>\n",
       "      <td>NL</td>\n",
       "      <td>152</td>\n",
       "      <td>578.0</td>\n",
       "      <td>124.0</td>\n",
       "      <td>205.0</td>\n",
       "      <td>30.0</td>\n",
       "      <td>...</td>\n",
       "      <td>1.0</td>\n",
       "      <td>1.0</td>\n",
       "      <td>0.0</td>\n",
       "      <td>6.0</td>\n",
       "      <td>0.355</td>\n",
       "      <td>0.449</td>\n",
       "      <td>0.614</td>\n",
       "      <td>1.063</td>\n",
       "      <td>614.414</td>\n",
       "      <td>False</td>\n",
       "    </tr>\n",
       "    <tr>\n",
       "      <th>36052</th>\n",
       "      <td>musiast01</td>\n",
       "      <td>1952</td>\n",
       "      <td>1</td>\n",
       "      <td>SLN</td>\n",
       "      <td>NL</td>\n",
       "      <td>154</td>\n",
       "      <td>578.0</td>\n",
       "      <td>105.0</td>\n",
       "      <td>194.0</td>\n",
       "      <td>42.0</td>\n",
       "      <td>...</td>\n",
       "      <td>2.0</td>\n",
       "      <td>0.0</td>\n",
       "      <td>0.0</td>\n",
       "      <td>11.0</td>\n",
       "      <td>0.336</td>\n",
       "      <td>0.432</td>\n",
       "      <td>0.538</td>\n",
       "      <td>0.970</td>\n",
       "      <td>560.660</td>\n",
       "      <td>False</td>\n",
       "    </tr>\n",
       "    <tr>\n",
       "      <th>36659</th>\n",
       "      <td>musiast01</td>\n",
       "      <td>1953</td>\n",
       "      <td>1</td>\n",
       "      <td>SLN</td>\n",
       "      <td>NL</td>\n",
       "      <td>157</td>\n",
       "      <td>593.0</td>\n",
       "      <td>127.0</td>\n",
       "      <td>200.0</td>\n",
       "      <td>53.0</td>\n",
       "      <td>...</td>\n",
       "      <td>0.0</td>\n",
       "      <td>0.0</td>\n",
       "      <td>0.0</td>\n",
       "      <td>10.0</td>\n",
       "      <td>0.337</td>\n",
       "      <td>0.437</td>\n",
       "      <td>0.609</td>\n",
       "      <td>1.046</td>\n",
       "      <td>620.278</td>\n",
       "      <td>False</td>\n",
       "    </tr>\n",
       "    <tr>\n",
       "      <th>37232</th>\n",
       "      <td>musiast01</td>\n",
       "      <td>1954</td>\n",
       "      <td>1</td>\n",
       "      <td>SLN</td>\n",
       "      <td>NL</td>\n",
       "      <td>153</td>\n",
       "      <td>591.0</td>\n",
       "      <td>120.0</td>\n",
       "      <td>195.0</td>\n",
       "      <td>41.0</td>\n",
       "      <td>...</td>\n",
       "      <td>4.0</td>\n",
       "      <td>0.0</td>\n",
       "      <td>7.0</td>\n",
       "      <td>20.0</td>\n",
       "      <td>0.330</td>\n",
       "      <td>0.428</td>\n",
       "      <td>0.607</td>\n",
       "      <td>1.035</td>\n",
       "      <td>611.685</td>\n",
       "      <td>False</td>\n",
       "    </tr>\n",
       "    <tr>\n",
       "      <th>37857</th>\n",
       "      <td>musiast01</td>\n",
       "      <td>1955</td>\n",
       "      <td>1</td>\n",
       "      <td>SLN</td>\n",
       "      <td>NL</td>\n",
       "      <td>154</td>\n",
       "      <td>562.0</td>\n",
       "      <td>97.0</td>\n",
       "      <td>179.0</td>\n",
       "      <td>30.0</td>\n",
       "      <td>...</td>\n",
       "      <td>8.0</td>\n",
       "      <td>2.0</td>\n",
       "      <td>4.0</td>\n",
       "      <td>12.0</td>\n",
       "      <td>0.319</td>\n",
       "      <td>0.408</td>\n",
       "      <td>0.566</td>\n",
       "      <td>0.974</td>\n",
       "      <td>547.388</td>\n",
       "      <td>False</td>\n",
       "    </tr>\n",
       "    <tr>\n",
       "      <th>38505</th>\n",
       "      <td>musiast01</td>\n",
       "      <td>1956</td>\n",
       "      <td>1</td>\n",
       "      <td>SLN</td>\n",
       "      <td>NL</td>\n",
       "      <td>156</td>\n",
       "      <td>594.0</td>\n",
       "      <td>87.0</td>\n",
       "      <td>184.0</td>\n",
       "      <td>33.0</td>\n",
       "      <td>...</td>\n",
       "      <td>3.0</td>\n",
       "      <td>3.0</td>\n",
       "      <td>7.0</td>\n",
       "      <td>19.0</td>\n",
       "      <td>0.310</td>\n",
       "      <td>0.386</td>\n",
       "      <td>0.522</td>\n",
       "      <td>0.908</td>\n",
       "      <td>539.352</td>\n",
       "      <td>False</td>\n",
       "    </tr>\n",
       "    <tr>\n",
       "      <th>39112</th>\n",
       "      <td>musiast01</td>\n",
       "      <td>1957</td>\n",
       "      <td>1</td>\n",
       "      <td>SLN</td>\n",
       "      <td>NL</td>\n",
       "      <td>134</td>\n",
       "      <td>502.0</td>\n",
       "      <td>82.0</td>\n",
       "      <td>176.0</td>\n",
       "      <td>38.0</td>\n",
       "      <td>...</td>\n",
       "      <td>2.0</td>\n",
       "      <td>1.0</td>\n",
       "      <td>8.0</td>\n",
       "      <td>13.0</td>\n",
       "      <td>0.351</td>\n",
       "      <td>0.422</td>\n",
       "      <td>0.612</td>\n",
       "      <td>1.034</td>\n",
       "      <td>519.068</td>\n",
       "      <td>False</td>\n",
       "    </tr>\n",
       "    <tr>\n",
       "      <th>39746</th>\n",
       "      <td>musiast01</td>\n",
       "      <td>1958</td>\n",
       "      <td>1</td>\n",
       "      <td>SLN</td>\n",
       "      <td>NL</td>\n",
       "      <td>135</td>\n",
       "      <td>472.0</td>\n",
       "      <td>64.0</td>\n",
       "      <td>159.0</td>\n",
       "      <td>35.0</td>\n",
       "      <td>...</td>\n",
       "      <td>1.0</td>\n",
       "      <td>0.0</td>\n",
       "      <td>4.0</td>\n",
       "      <td>19.0</td>\n",
       "      <td>0.337</td>\n",
       "      <td>0.423</td>\n",
       "      <td>0.528</td>\n",
       "      <td>0.951</td>\n",
       "      <td>448.872</td>\n",
       "      <td>False</td>\n",
       "    </tr>\n",
       "    <tr>\n",
       "      <th>40378</th>\n",
       "      <td>musiast01</td>\n",
       "      <td>1959</td>\n",
       "      <td>1</td>\n",
       "      <td>SLN</td>\n",
       "      <td>NL</td>\n",
       "      <td>115</td>\n",
       "      <td>341.0</td>\n",
       "      <td>37.0</td>\n",
       "      <td>87.0</td>\n",
       "      <td>13.0</td>\n",
       "      <td>...</td>\n",
       "      <td>0.0</td>\n",
       "      <td>0.0</td>\n",
       "      <td>3.0</td>\n",
       "      <td>12.0</td>\n",
       "      <td>0.255</td>\n",
       "      <td>0.364</td>\n",
       "      <td>0.428</td>\n",
       "      <td>0.792</td>\n",
       "      <td>270.072</td>\n",
       "      <td>False</td>\n",
       "    </tr>\n",
       "    <tr>\n",
       "      <th>41027</th>\n",
       "      <td>musiast01</td>\n",
       "      <td>1960</td>\n",
       "      <td>1</td>\n",
       "      <td>SLN</td>\n",
       "      <td>NL</td>\n",
       "      <td>116</td>\n",
       "      <td>331.0</td>\n",
       "      <td>49.0</td>\n",
       "      <td>91.0</td>\n",
       "      <td>17.0</td>\n",
       "      <td>...</td>\n",
       "      <td>2.0</td>\n",
       "      <td>0.0</td>\n",
       "      <td>4.0</td>\n",
       "      <td>5.0</td>\n",
       "      <td>0.275</td>\n",
       "      <td>0.354</td>\n",
       "      <td>0.486</td>\n",
       "      <td>0.840</td>\n",
       "      <td>278.040</td>\n",
       "      <td>False</td>\n",
       "    </tr>\n",
       "    <tr>\n",
       "      <th>41711</th>\n",
       "      <td>musiast01</td>\n",
       "      <td>1961</td>\n",
       "      <td>1</td>\n",
       "      <td>SLN</td>\n",
       "      <td>NL</td>\n",
       "      <td>123</td>\n",
       "      <td>372.0</td>\n",
       "      <td>46.0</td>\n",
       "      <td>107.0</td>\n",
       "      <td>22.0</td>\n",
       "      <td>...</td>\n",
       "      <td>1.0</td>\n",
       "      <td>0.0</td>\n",
       "      <td>6.0</td>\n",
       "      <td>7.0</td>\n",
       "      <td>0.288</td>\n",
       "      <td>0.371</td>\n",
       "      <td>0.489</td>\n",
       "      <td>0.860</td>\n",
       "      <td>319.920</td>\n",
       "      <td>False</td>\n",
       "    </tr>\n",
       "    <tr>\n",
       "      <th>42434</th>\n",
       "      <td>musiast01</td>\n",
       "      <td>1962</td>\n",
       "      <td>1</td>\n",
       "      <td>SLN</td>\n",
       "      <td>NL</td>\n",
       "      <td>135</td>\n",
       "      <td>433.0</td>\n",
       "      <td>57.0</td>\n",
       "      <td>143.0</td>\n",
       "      <td>18.0</td>\n",
       "      <td>...</td>\n",
       "      <td>3.0</td>\n",
       "      <td>0.0</td>\n",
       "      <td>5.0</td>\n",
       "      <td>13.0</td>\n",
       "      <td>0.330</td>\n",
       "      <td>0.416</td>\n",
       "      <td>0.508</td>\n",
       "      <td>0.924</td>\n",
       "      <td>400.092</td>\n",
       "      <td>False</td>\n",
       "    </tr>\n",
       "    <tr>\n",
       "      <th>43182</th>\n",
       "      <td>musiast01</td>\n",
       "      <td>1963</td>\n",
       "      <td>1</td>\n",
       "      <td>SLN</td>\n",
       "      <td>NL</td>\n",
       "      <td>124</td>\n",
       "      <td>337.0</td>\n",
       "      <td>34.0</td>\n",
       "      <td>86.0</td>\n",
       "      <td>10.0</td>\n",
       "      <td>...</td>\n",
       "      <td>2.0</td>\n",
       "      <td>0.0</td>\n",
       "      <td>5.0</td>\n",
       "      <td>3.0</td>\n",
       "      <td>0.255</td>\n",
       "      <td>0.325</td>\n",
       "      <td>0.404</td>\n",
       "      <td>0.729</td>\n",
       "      <td>245.673</td>\n",
       "      <td>False</td>\n",
       "    </tr>\n",
       "  </tbody>\n",
       "</table>\n",
       "<p>22 rows × 28 columns</p>\n",
       "</div>"
      ],
      "text/plain": [
       "        playerID  yearID  stint teamID lgID    G     AB      R      H    2B  \\\n",
       "29609  musiast01    1941      1    SLN   NL   12   47.0    8.0   20.0   4.0   \n",
       "30164  musiast01    1942      1    SLN   NL  140  467.0   87.0  147.0  32.0   \n",
       "30707  musiast01    1943      1    SLN   NL  157  617.0  108.0  220.0  48.0   \n",
       "31263  musiast01    1944      1    SLN   NL  146  568.0  112.0  197.0  51.0   \n",
       "32497  musiast01    1946      1    SLN   NL  156  624.0  124.0  228.0  50.0   \n",
       "33100  musiast01    1947      1    SLN   NL  149  587.0  113.0  183.0  30.0   \n",
       "33669  musiast01    1948      1    SLN   NL  155  611.0  135.0  230.0  46.0   \n",
       "34240  musiast01    1949      1    SLN   NL  157  612.0  128.0  207.0  41.0   \n",
       "34819  musiast01    1950      1    SLN   NL  146  555.0  105.0  192.0  41.0   \n",
       "35424  musiast01    1951      1    SLN   NL  152  578.0  124.0  205.0  30.0   \n",
       "36052  musiast01    1952      1    SLN   NL  154  578.0  105.0  194.0  42.0   \n",
       "36659  musiast01    1953      1    SLN   NL  157  593.0  127.0  200.0  53.0   \n",
       "37232  musiast01    1954      1    SLN   NL  153  591.0  120.0  195.0  41.0   \n",
       "37857  musiast01    1955      1    SLN   NL  154  562.0   97.0  179.0  30.0   \n",
       "38505  musiast01    1956      1    SLN   NL  156  594.0   87.0  184.0  33.0   \n",
       "39112  musiast01    1957      1    SLN   NL  134  502.0   82.0  176.0  38.0   \n",
       "39746  musiast01    1958      1    SLN   NL  135  472.0   64.0  159.0  35.0   \n",
       "40378  musiast01    1959      1    SLN   NL  115  341.0   37.0   87.0  13.0   \n",
       "41027  musiast01    1960      1    SLN   NL  116  331.0   49.0   91.0  17.0   \n",
       "41711  musiast01    1961      1    SLN   NL  123  372.0   46.0  107.0  22.0   \n",
       "42434  musiast01    1962      1    SLN   NL  135  433.0   57.0  143.0  18.0   \n",
       "43182  musiast01    1963      1    SLN   NL  124  337.0   34.0   86.0  10.0   \n",
       "\n",
       "       ...    HBP    SH   SF  GIDP  statBA  statOBP  statSLUG  statOPS+  \\\n",
       "29609  ...    0.0   0.0  0.0   0.0   0.426    0.449     0.574     1.023   \n",
       "30164  ...    2.0   5.0  0.0   3.0   0.315    0.397     0.490     0.887   \n",
       "30707  ...    2.0  10.0  0.0  17.0   0.357    0.425     0.562     0.987   \n",
       "31263  ...    5.0   4.0  0.0   7.0   0.347    0.440     0.549     0.989   \n",
       "32497  ...    3.0   2.0  0.0   7.0   0.365    0.434     0.587     1.021   \n",
       "33100  ...    4.0   6.0  0.0  18.0   0.312    0.398     0.504     0.902   \n",
       "33669  ...    3.0   1.0  0.0  18.0   0.376    0.450     0.702     1.152   \n",
       "34240  ...    2.0   0.0  0.0  12.0   0.338    0.438     0.624     1.062   \n",
       "34819  ...    3.0   0.0  0.0  11.0   0.346    0.437     0.596     1.033   \n",
       "35424  ...    1.0   1.0  0.0   6.0   0.355    0.449     0.614     1.063   \n",
       "36052  ...    2.0   0.0  0.0  11.0   0.336    0.432     0.538     0.970   \n",
       "36659  ...    0.0   0.0  0.0  10.0   0.337    0.437     0.609     1.046   \n",
       "37232  ...    4.0   0.0  7.0  20.0   0.330    0.428     0.607     1.035   \n",
       "37857  ...    8.0   2.0  4.0  12.0   0.319    0.408     0.566     0.974   \n",
       "38505  ...    3.0   3.0  7.0  19.0   0.310    0.386     0.522     0.908   \n",
       "39112  ...    2.0   1.0  8.0  13.0   0.351    0.422     0.612     1.034   \n",
       "39746  ...    1.0   0.0  4.0  19.0   0.337    0.423     0.528     0.951   \n",
       "40378  ...    0.0   0.0  3.0  12.0   0.255    0.364     0.428     0.792   \n",
       "41027  ...    2.0   0.0  4.0   5.0   0.275    0.354     0.486     0.840   \n",
       "41711  ...    1.0   0.0  6.0   7.0   0.288    0.371     0.489     0.860   \n",
       "42434  ...    3.0   0.0  5.0  13.0   0.330    0.416     0.508     0.924   \n",
       "43182  ...    2.0   0.0  5.0   3.0   0.255    0.325     0.404     0.729   \n",
       "\n",
       "       statOpsWght    MVP  \n",
       "29609       48.081  False  \n",
       "30164      414.229  False  \n",
       "30707      608.979  False  \n",
       "31263      561.752  False  \n",
       "32497      637.104  False  \n",
       "33100      529.474  False  \n",
       "33669      703.872  False  \n",
       "34240      649.944  False  \n",
       "34819      573.315  False  \n",
       "35424      614.414  False  \n",
       "36052      560.660  False  \n",
       "36659      620.278  False  \n",
       "37232      611.685  False  \n",
       "37857      547.388  False  \n",
       "38505      539.352  False  \n",
       "39112      519.068  False  \n",
       "39746      448.872  False  \n",
       "40378      270.072  False  \n",
       "41027      278.040  False  \n",
       "41711      319.920  False  \n",
       "42434      400.092  False  \n",
       "43182      245.673  False  \n",
       "\n",
       "[22 rows x 28 columns]"
      ]
     },
     "execution_count": 13,
     "metadata": {},
     "output_type": "execute_result"
    }
   ],
   "source": [
    "sub_batID = fileBatting[['playerID', 'yearID']]\n",
    "sub_awdID = fileAwards.query('awardID==\"Most Valuable Player\"')[['playerID', 'yearID']]\n",
    "fileBatting['MVP'] = sub_batID.isin(sub_awdID).all(axis=1)\n",
    "fileBatting.query('playerID == \"musiast01\"')"
   ]
  },
  {
   "cell_type": "code",
   "execution_count": 14,
   "metadata": {
    "collapsed": false
   },
   "outputs": [
    {
     "data": {
      "text/html": [
       "<div>\n",
       "<table border=\"1\" class=\"dataframe\">\n",
       "  <thead>\n",
       "    <tr style=\"text-align: right;\">\n",
       "      <th></th>\n",
       "      <th>playerID</th>\n",
       "      <th>yearID</th>\n",
       "    </tr>\n",
       "  </thead>\n",
       "  <tbody>\n",
       "    <tr>\n",
       "      <th>1589</th>\n",
       "      <td>musiast01</td>\n",
       "      <td>1943</td>\n",
       "    </tr>\n",
       "    <tr>\n",
       "      <th>1748</th>\n",
       "      <td>musiast01</td>\n",
       "      <td>1946</td>\n",
       "    </tr>\n",
       "    <tr>\n",
       "      <th>1844</th>\n",
       "      <td>musiast01</td>\n",
       "      <td>1948</td>\n",
       "    </tr>\n",
       "  </tbody>\n",
       "</table>\n",
       "</div>"
      ],
      "text/plain": [
       "       playerID  yearID\n",
       "1589  musiast01    1943\n",
       "1748  musiast01    1946\n",
       "1844  musiast01    1948"
      ]
     },
     "execution_count": 14,
     "metadata": {},
     "output_type": "execute_result"
    }
   ],
   "source": [
    "sub_awdID.query('playerID == \"musiast01\"')"
   ]
  },
  {
   "cell_type": "markdown",
   "metadata": {},
   "source": [
    "Now we'd like to begin performing some useful analysis/comparisons. In order to do so we will need to summarize this data across multiple seasons, teams & stats.\n",
    "\n",
    "First, we will outline the stats we will summarize."
   ]
  },
  {
   "cell_type": "code",
   "execution_count": 15,
   "metadata": {
    "collapsed": true
   },
   "outputs": [],
   "source": [
    "stats_to_summarize = {\n",
    "    # 'G':0,\n",
    "    # 'AB':0,\n",
    "    'R':0,\n",
    "    'H':0,\n",
    "    '2B':0,\n",
    "    '3B':0,\n",
    "    'HR':0,\n",
    "    'BB':0,\n",
    "    'RBI':0,\n",
    "    'SO':0,\n",
    "    'IBB':0,\n",
    "    'HBP':0,\n",
    "    'SH':0,\n",
    "    'SF':0\n",
    "    # 'lgAvg':[]\n",
    "    # 'lgObp':[]\n",
    "    # 'lgSlug':[]\n",
    "    # 'lgOps+':[]\n",
    "    # 'lgOpsWght':[]\n",
    "}"
   ]
  },
  {
   "cell_type": "markdown",
   "metadata": {},
   "source": [
    "Next, we need a procedure that will pull a unique list of  years (from batting data) and summarize across the league how players performed in that particular season."
   ]
  },
  {
   "cell_type": "code",
   "execution_count": 16,
   "metadata": {
    "collapsed": false
   },
   "outputs": [],
   "source": [
    "def season_stat_compiliation():\n",
    "    dicBat = {}\n",
    "    for year in pd.unique(fileBatting.yearID.ravel()):\n",
    "        dicBat[year] = season_offense_summary(year)\n",
    "    return pd.DataFrame(dicBat)"
   ]
  },
  {
   "cell_type": "code",
   "execution_count": 17,
   "metadata": {
    "collapsed": false
   },
   "outputs": [],
   "source": [
    "def season_offense_summary(year):\n",
    "    dicSum = {}\n",
    "    dicSum['Players'] = len(fileBatting.loc[fileBatting['yearID'] == year])\n",
    "    dicSum['AB'] = fileBatting.loc[(fileBatting['yearID'] == year), 'AB'].sum()\n",
    "    dicSum['G'] = fileBatting.loc[(fileBatting['yearID'] == year), 'G'].sum()\n",
    "    for stat in stats_to_summarize.keys():\n",
    "        dicSum[stat] = fileBatting.loc[(fileBatting['yearID'] == year), stat].sum()\n",
    "        dicSum[stat + '_G'] = round(fileBatting.loc[(fileBatting['yearID'] == year), stat].sum() / dicSum['G'],4)\n",
    "        dicSum[stat + '_AB'] = round(fileBatting.loc[(fileBatting['yearID'] == year), stat].sum() / dicSum['AB'],4)\n",
    "    dicSum['lgAvg'] = f_Avg(dicSum['AB'],dicSum['H'])\n",
    "    dicSum['lgObp'] = f_Obp(dicSum['H'],dicSum['BB'],dicSum['IBB'], dicSum['HBP'],dicSum['SF'],dicSum['AB'])\n",
    "    dicSum['lgSlug'] = f_Slug(dicSum['H'],dicSum['2B'],dicSum['3B'],dicSum['HR'],dicSum['AB'])\n",
    "    dicSum['lgOps+'] = dicSum['lgObp'] + dicSum['lgSlug']\n",
    "    dicSum['lgOpsWght'] = dicSum['AB'] * dicSum['lgOps+']\n",
    "    \n",
    "    return dicSum"
   ]
  },
  {
   "cell_type": "markdown",
   "metadata": {},
   "source": [
    "We can then run the above."
   ]
  },
  {
   "cell_type": "code",
   "execution_count": 18,
   "metadata": {
    "collapsed": false
   },
   "outputs": [],
   "source": [
    "league_stat_summary = season_stat_compiliation()"
   ]
  },
  {
   "cell_type": "code",
   "execution_count": 19,
   "metadata": {
    "collapsed": false
   },
   "outputs": [
    {
     "data": {
      "text/html": [
       "<div>\n",
       "<table border=\"1\" class=\"dataframe\">\n",
       "  <thead>\n",
       "    <tr style=\"text-align: right;\">\n",
       "      <th></th>\n",
       "      <th>1871</th>\n",
       "      <th>1872</th>\n",
       "      <th>1873</th>\n",
       "      <th>1874</th>\n",
       "      <th>1875</th>\n",
       "      <th>1876</th>\n",
       "      <th>1877</th>\n",
       "      <th>1878</th>\n",
       "      <th>1879</th>\n",
       "      <th>1880</th>\n",
       "      <th>...</th>\n",
       "      <th>2005</th>\n",
       "      <th>2006</th>\n",
       "      <th>2007</th>\n",
       "      <th>2008</th>\n",
       "      <th>2009</th>\n",
       "      <th>2010</th>\n",
       "      <th>2011</th>\n",
       "      <th>2012</th>\n",
       "      <th>2013</th>\n",
       "      <th>2014</th>\n",
       "    </tr>\n",
       "  </thead>\n",
       "  <tbody>\n",
       "    <tr>\n",
       "      <th>2B</th>\n",
       "      <td>434.0</td>\n",
       "      <td>567.0</td>\n",
       "      <td>556.0</td>\n",
       "      <td>633.0</td>\n",
       "      <td>839.0</td>\n",
       "      <td>633.0</td>\n",
       "      <td>431.0</td>\n",
       "      <td>481.0</td>\n",
       "      <td>958.0</td>\n",
       "      <td>980.0</td>\n",
       "      <td>...</td>\n",
       "      <td>8863.0</td>\n",
       "      <td>9135.0</td>\n",
       "      <td>9197.0</td>\n",
       "      <td>9014.0</td>\n",
       "      <td>8737.0</td>\n",
       "      <td>8486.0</td>\n",
       "      <td>8399.0</td>\n",
       "      <td>8261.0</td>\n",
       "      <td>8222.0</td>\n",
       "      <td>8137.0</td>\n",
       "    </tr>\n",
       "  </tbody>\n",
       "</table>\n",
       "<p>1 rows × 144 columns</p>\n",
       "</div>"
      ],
      "text/plain": [
       "     1871   1872   1873   1874   1875   1876   1877   1878   1879   1880  \\\n",
       "2B  434.0  567.0  556.0  633.0  839.0  633.0  431.0  481.0  958.0  980.0   \n",
       "\n",
       "     ...      2005    2006    2007    2008    2009    2010    2011    2012  \\\n",
       "2B   ...    8863.0  9135.0  9197.0  9014.0  8737.0  8486.0  8399.0  8261.0   \n",
       "\n",
       "      2013    2014  \n",
       "2B  8222.0  8137.0  \n",
       "\n",
       "[1 rows x 144 columns]"
      ]
     },
     "execution_count": 19,
     "metadata": {},
     "output_type": "execute_result"
    }
   ],
   "source": [
    "league_stat_summary.head(1)"
   ]
  },
  {
   "cell_type": "markdown",
   "metadata": {},
   "source": [
    "Now lets summarize the data into a dataframe with both the master and batting data. Merging on the 'playerID' field will give us the desired result."
   ]
  },
  {
   "cell_type": "code",
   "execution_count": 20,
   "metadata": {
    "collapsed": false
   },
   "outputs": [
    {
     "data": {
      "text/html": [
       "<div>\n",
       "<table border=\"1\" class=\"dataframe\">\n",
       "  <thead>\n",
       "    <tr style=\"text-align: right;\">\n",
       "      <th></th>\n",
       "      <th>playerID</th>\n",
       "      <th>birthYear</th>\n",
       "      <th>birthMonth</th>\n",
       "      <th>birthDay</th>\n",
       "      <th>birthCountry</th>\n",
       "      <th>birthState</th>\n",
       "      <th>birthCity</th>\n",
       "      <th>deathYear</th>\n",
       "      <th>deathMonth</th>\n",
       "      <th>deathDay</th>\n",
       "      <th>...</th>\n",
       "      <th>HBP</th>\n",
       "      <th>SH</th>\n",
       "      <th>SF</th>\n",
       "      <th>GIDP</th>\n",
       "      <th>statBA</th>\n",
       "      <th>statOBP</th>\n",
       "      <th>statSLUG</th>\n",
       "      <th>statOPS+</th>\n",
       "      <th>statOpsWght</th>\n",
       "      <th>MVP</th>\n",
       "    </tr>\n",
       "  </thead>\n",
       "  <tbody>\n",
       "    <tr>\n",
       "      <th>0</th>\n",
       "      <td>aardsda01</td>\n",
       "      <td>1981.0</td>\n",
       "      <td>12.0</td>\n",
       "      <td>27.0</td>\n",
       "      <td>USA</td>\n",
       "      <td>CO</td>\n",
       "      <td>Denver</td>\n",
       "      <td>NaN</td>\n",
       "      <td>NaN</td>\n",
       "      <td>NaN</td>\n",
       "      <td>...</td>\n",
       "      <td>0.0</td>\n",
       "      <td>0.0</td>\n",
       "      <td>0.0</td>\n",
       "      <td>0.0</td>\n",
       "      <td>0.0</td>\n",
       "      <td>0.0</td>\n",
       "      <td>0.0</td>\n",
       "      <td>0.0</td>\n",
       "      <td>0.0</td>\n",
       "      <td>False</td>\n",
       "    </tr>\n",
       "  </tbody>\n",
       "</table>\n",
       "<p>1 rows × 53 columns</p>\n",
       "</div>"
      ],
      "text/plain": [
       "    playerID  birthYear  birthMonth  birthDay birthCountry birthState  \\\n",
       "0  aardsda01     1981.0        12.0      27.0          USA         CO   \n",
       "\n",
       "  birthCity  deathYear  deathMonth  deathDay  ...    HBP   SH   SF GIDP  \\\n",
       "0    Denver        NaN         NaN       NaN  ...    0.0  0.0  0.0  0.0   \n",
       "\n",
       "  statBA statOBP  statSLUG  statOPS+ statOpsWght    MVP  \n",
       "0    0.0     0.0       0.0       0.0         0.0  False  \n",
       "\n",
       "[1 rows x 53 columns]"
      ]
     },
     "execution_count": 20,
     "metadata": {},
     "output_type": "execute_result"
    }
   ],
   "source": [
    "master_player_season = pd.merge(fileMaster, fileBatting, on='playerID', how='outer')\n",
    "master_player_season.head(1)"
   ]
  },
  {
   "cell_type": "markdown",
   "metadata": {},
   "source": [
    "You can see from the above that the columns on the end were what we calculated in the batting column and them as well as other batting fields have been layered onto the master data.\n",
    "\n",
    "Next, we can begin summarizing at the team level.\n",
    "\n",
    "*We instantiate new functions for avg/obp/slug here as were are looking up based on 2 variables."
   ]
  },
  {
   "cell_type": "code",
   "execution_count": 21,
   "metadata": {
    "collapsed": true
   },
   "outputs": [],
   "source": [
    "def f_Parse_AVG(yr, team):\n",
    "    tmp = fileBatting[(fileBatting.teamID == team) & (fileBatting.yearID == yr)].sum()\n",
    "    H = tmp['H']\n",
    "    AB = tmp['AB']\n",
    "    return f_Avg(AB, H)\n",
    "def f_Parse_OBP(yr, team):\n",
    "    tmp = fileBatting[(fileBatting.teamID == team) & (fileBatting.yearID == yr)].sum()\n",
    "    H = tmp['H']\n",
    "    BB = tmp['BB']\n",
    "    IBB = tmp['IBB']\n",
    "    HBP = tmp['HBP']\n",
    "    SF = tmp['SF']\n",
    "    AB = tmp['AB']\n",
    "    return f_Obp(H,BB,IBB,HBP,SF,AB)\n",
    "def f_Parse_SLUG(yr, team):\n",
    "    tmp = fileBatting[(fileBatting.teamID == team) & (fileBatting.yearID == yr)].sum()\n",
    "    H = tmp['H']\n",
    "    AB = tmp['AB']\n",
    "    Dbl = tmp['2B']\n",
    "    Trpl = tmp['3B']\n",
    "    HR = tmp['HR']\n",
    "    return f_Slug(H,Dbl,Trpl,HR,AB)\n"
   ]
  },
  {
   "cell_type": "code",
   "execution_count": 22,
   "metadata": {
    "collapsed": true
   },
   "outputs": [],
   "source": [
    "def unique_team_season():\n",
    "    tms = fileBatting[['yearID', 'teamID']].copy()\n",
    "    tms.drop_duplicates(inplace=True)   \n",
    "    tms['team_BA'] = tms.apply(lambda w: f_Parse_AVG(w['yearID'],w['teamID']), axis=1)\n",
    "    tms['team_OBP'] = tms.apply(lambda w: f_Parse_OBP(w['yearID'],w['teamID']), axis=1)\n",
    "    tms['team_SLUG'] = tms.apply(lambda w: f_Parse_SLUG(w['yearID'],w['teamID']), axis=1)\n",
    "    tms['team_OPS+'] = tms['team_OBP'] + tms['team_SLUG']\n",
    "    tms['team_OpsWght'] = tms.apply(lambda w: (w['team_OPS+'] * fileBatting[(fileBatting.teamID == w['teamID']) & (fileBatting.yearID == w['yearID'])].sum()['AB']), axis=1)\n",
    "    return tms"
   ]
  },
  {
   "cell_type": "code",
   "execution_count": 23,
   "metadata": {
    "collapsed": false
   },
   "outputs": [
    {
     "data": {
      "text/html": [
       "<div>\n",
       "<table border=\"1\" class=\"dataframe\">\n",
       "  <thead>\n",
       "    <tr style=\"text-align: right;\">\n",
       "      <th></th>\n",
       "      <th>yearID</th>\n",
       "      <th>teamID</th>\n",
       "      <th>team_BA</th>\n",
       "      <th>team_OBP</th>\n",
       "      <th>team_SLUG</th>\n",
       "      <th>team_OPS+</th>\n",
       "      <th>team_OpsWght</th>\n",
       "    </tr>\n",
       "  </thead>\n",
       "  <tbody>\n",
       "    <tr>\n",
       "      <th>0</th>\n",
       "      <td>1871</td>\n",
       "      <td>TRO</td>\n",
       "      <td>0.308</td>\n",
       "      <td>0.334</td>\n",
       "      <td>0.417</td>\n",
       "      <td>0.751</td>\n",
       "      <td>937.248</td>\n",
       "    </tr>\n",
       "  </tbody>\n",
       "</table>\n",
       "</div>"
      ],
      "text/plain": [
       "   yearID teamID  team_BA  team_OBP  team_SLUG  team_OPS+  team_OpsWght\n",
       "0    1871    TRO    0.308     0.334      0.417      0.751       937.248"
      ]
     },
     "execution_count": 23,
     "metadata": {},
     "output_type": "execute_result"
    }
   ],
   "source": [
    "team_stat_summary = unique_team_season()\n",
    "team_stat_summary.head(1)"
   ]
  },
  {
   "cell_type": "markdown",
   "metadata": {},
   "source": [
    "From the finished result above we have the relevent metrics each team outputted by season.\n",
    "\n",
    "This is critical in our next step as we look to compare an individuals performance by that of his teammates."
   ]
  },
  {
   "cell_type": "code",
   "execution_count": 24,
   "metadata": {
    "collapsed": false
   },
   "outputs": [],
   "source": [
    "master_player_team = pd.merge(master_player_season, team_stat_summary, on=['yearID','teamID'], how='outer')\n",
    "master_player_team['%_team_OPS+'] = master_player_team['statOpsWght'] / master_player_team['team_OpsWght']"
   ]
  },
  {
   "cell_type": "code",
   "execution_count": 25,
   "metadata": {
    "collapsed": false
   },
   "outputs": [
    {
     "data": {
      "text/html": [
       "<div>\n",
       "<table border=\"1\" class=\"dataframe\">\n",
       "  <thead>\n",
       "    <tr style=\"text-align: right;\">\n",
       "      <th></th>\n",
       "      <th>playerID</th>\n",
       "      <th>birthYear</th>\n",
       "      <th>birthMonth</th>\n",
       "      <th>birthDay</th>\n",
       "      <th>birthCountry</th>\n",
       "      <th>birthState</th>\n",
       "      <th>birthCity</th>\n",
       "      <th>deathYear</th>\n",
       "      <th>deathMonth</th>\n",
       "      <th>deathDay</th>\n",
       "      <th>...</th>\n",
       "      <th>statSLUG</th>\n",
       "      <th>statOPS+</th>\n",
       "      <th>statOpsWght</th>\n",
       "      <th>MVP</th>\n",
       "      <th>team_BA</th>\n",
       "      <th>team_OBP</th>\n",
       "      <th>team_SLUG</th>\n",
       "      <th>team_OPS+</th>\n",
       "      <th>team_OpsWght</th>\n",
       "      <th>%_team_OPS+</th>\n",
       "    </tr>\n",
       "  </thead>\n",
       "  <tbody>\n",
       "    <tr>\n",
       "      <th>0</th>\n",
       "      <td>aardsda01</td>\n",
       "      <td>1981.0</td>\n",
       "      <td>12.0</td>\n",
       "      <td>27.0</td>\n",
       "      <td>USA</td>\n",
       "      <td>CO</td>\n",
       "      <td>Denver</td>\n",
       "      <td>NaN</td>\n",
       "      <td>NaN</td>\n",
       "      <td>NaN</td>\n",
       "      <td>...</td>\n",
       "      <td>0.0</td>\n",
       "      <td>0.0</td>\n",
       "      <td>0.0</td>\n",
       "      <td>False</td>\n",
       "      <td>0.27</td>\n",
       "      <td>0.357</td>\n",
       "      <td>0.438</td>\n",
       "      <td>0.795</td>\n",
       "      <td>4409.07</td>\n",
       "      <td>0.0</td>\n",
       "    </tr>\n",
       "  </tbody>\n",
       "</table>\n",
       "<p>1 rows × 59 columns</p>\n",
       "</div>"
      ],
      "text/plain": [
       "    playerID  birthYear  birthMonth  birthDay birthCountry birthState  \\\n",
       "0  aardsda01     1981.0        12.0      27.0          USA         CO   \n",
       "\n",
       "  birthCity  deathYear  deathMonth  deathDay     ...     statSLUG statOPS+  \\\n",
       "0    Denver        NaN         NaN       NaN     ...          0.0      0.0   \n",
       "\n",
       "  statOpsWght    MVP team_BA team_OBP  team_SLUG  team_OPS+ team_OpsWght  \\\n",
       "0         0.0  False    0.27    0.357      0.438      0.795      4409.07   \n",
       "\n",
       "  %_team_OPS+  \n",
       "0         0.0  \n",
       "\n",
       "[1 rows x 59 columns]"
      ]
     },
     "execution_count": 25,
     "metadata": {},
     "output_type": "execute_result"
    }
   ],
   "source": [
    "master_player_team.head(1)"
   ]
  },
  {
   "cell_type": "markdown",
   "metadata": {},
   "source": [
    "In the above we've now created a 'master' relations dataframe from individual & team data. From this dataframe we've gone ahead and calculated a % column to calculate the portion of value (OPS weighted) of the player as % of the overall team's output.\n",
    "\n",
    "Below are atleast some initial insights that are quite interesting."
   ]
  },
  {
   "cell_type": "code",
   "execution_count": 26,
   "metadata": {
    "collapsed": false
   },
   "outputs": [],
   "source": [
    "def df_lookup(ind):\n",
    "    return '%s %s @ %s in %s' % (master_player_team.ix[ind, 'nameFirst'], \\\n",
    "                             master_player_team.ix[ind, 'nameLast'], \\\n",
    "                             round(master_player_team.ix[ind, '%_team_OPS+'],3), \\\n",
    "                             master_player_team.ix[ind, 'yearID'])"
   ]
  },
  {
   "cell_type": "code",
   "execution_count": 27,
   "metadata": {
    "collapsed": false
   },
   "outputs": [
    {
     "name": "stdout",
     "output_type": "stream",
     "text": [
      "Sammy Sosa @ 0.164 in 2001.0\n"
     ]
    }
   ],
   "source": [
    "time_filter = 1970\n",
    "placement = master_player_team.loc[(master_player_team['yearID']>time_filter),'%_team_OPS+'].argmax()\n",
    "print df_lookup(placement)"
   ]
  },
  {
   "cell_type": "markdown",
   "metadata": {},
   "source": [
    "<a id='question1'></a>\n",
    "Now we can grab some answers to our questions."
   ]
  },
  {
   "cell_type": "code",
   "execution_count": 28,
   "metadata": {
    "collapsed": false
   },
   "outputs": [
    {
     "data": {
      "text/html": [
       "<div>\n",
       "<table border=\"1\" class=\"dataframe\">\n",
       "  <thead>\n",
       "    <tr style=\"text-align: right;\">\n",
       "      <th></th>\n",
       "      <th>playerID</th>\n",
       "      <th>nameFirst</th>\n",
       "      <th>nameLast</th>\n",
       "      <th>%_team_OPS+</th>\n",
       "      <th>yearID</th>\n",
       "      <th>MVP</th>\n",
       "    </tr>\n",
       "  </thead>\n",
       "  <tbody>\n",
       "    <tr>\n",
       "      <th>72023</th>\n",
       "      <td>musiast01</td>\n",
       "      <td>Stan</td>\n",
       "      <td>Musial</td>\n",
       "      <td>0.182107</td>\n",
       "      <td>1948.0</td>\n",
       "      <td>False</td>\n",
       "    </tr>\n",
       "    <tr>\n",
       "      <th>93237</th>\n",
       "      <td>cobbty01</td>\n",
       "      <td>Ty</td>\n",
       "      <td>Cobb</td>\n",
       "      <td>0.174210</td>\n",
       "      <td>1917.0</td>\n",
       "      <td>False</td>\n",
       "    </tr>\n",
       "    <tr>\n",
       "      <th>13890</th>\n",
       "      <td>lajoina01</td>\n",
       "      <td>Nap</td>\n",
       "      <td>Lajoie</td>\n",
       "      <td>0.173805</td>\n",
       "      <td>1910.0</td>\n",
       "      <td>False</td>\n",
       "    </tr>\n",
       "    <tr>\n",
       "      <th>100028</th>\n",
       "      <td>stonege01</td>\n",
       "      <td>George</td>\n",
       "      <td>Stone</td>\n",
       "      <td>0.172135</td>\n",
       "      <td>1906.0</td>\n",
       "      <td>False</td>\n",
       "    </tr>\n",
       "    <tr>\n",
       "      <th>80988</th>\n",
       "      <td>kleinch01</td>\n",
       "      <td>Chuck</td>\n",
       "      <td>Klein</td>\n",
       "      <td>0.169715</td>\n",
       "      <td>1933.0</td>\n",
       "      <td>False</td>\n",
       "    </tr>\n",
       "  </tbody>\n",
       "</table>\n",
       "</div>"
      ],
      "text/plain": [
       "         playerID nameFirst nameLast  %_team_OPS+  yearID    MVP\n",
       "72023   musiast01      Stan   Musial     0.182107  1948.0  False\n",
       "93237    cobbty01        Ty     Cobb     0.174210  1917.0  False\n",
       "13890   lajoina01       Nap   Lajoie     0.173805  1910.0  False\n",
       "100028  stonege01    George    Stone     0.172135  1906.0  False\n",
       "80988   kleinch01     Chuck    Klein     0.169715  1933.0  False"
      ]
     },
     "execution_count": 28,
     "metadata": {},
     "output_type": "execute_result"
    }
   ],
   "source": [
    "master_player_team[(master_player_team.yearID > 1900)].sort_values('%_team_OPS+', ascending=False).head(5)[['playerID','nameFirst', 'nameLast', '%_team_OPS+', 'yearID', 'MVP']]"
   ]
  },
  {
   "cell_type": "code",
   "execution_count": 33,
   "metadata": {
    "collapsed": false
   },
   "outputs": [
    {
     "data": {
      "text/html": [
       "<div>\n",
       "<table border=\"1\" class=\"dataframe\">\n",
       "  <thead>\n",
       "    <tr style=\"text-align: right;\">\n",
       "      <th></th>\n",
       "      <th>playerID</th>\n",
       "      <th>birthYear</th>\n",
       "      <th>birthMonth</th>\n",
       "      <th>birthDay</th>\n",
       "      <th>birthCountry</th>\n",
       "      <th>birthState</th>\n",
       "      <th>birthCity</th>\n",
       "      <th>deathYear</th>\n",
       "      <th>deathMonth</th>\n",
       "      <th>deathDay</th>\n",
       "      <th>...</th>\n",
       "      <th>statSLUG</th>\n",
       "      <th>statOPS+</th>\n",
       "      <th>statOpsWght</th>\n",
       "      <th>MVP</th>\n",
       "      <th>team_BA</th>\n",
       "      <th>team_OBP</th>\n",
       "      <th>team_SLUG</th>\n",
       "      <th>team_OPS+</th>\n",
       "      <th>team_OpsWght</th>\n",
       "      <th>%_team_OPS+</th>\n",
       "    </tr>\n",
       "  </thead>\n",
       "  <tbody>\n",
       "  </tbody>\n",
       "</table>\n",
       "<p>0 rows × 59 columns</p>\n",
       "</div>"
      ],
      "text/plain": [
       "Empty DataFrame\n",
       "Columns: [playerID, birthYear, birthMonth, birthDay, birthCountry, birthState, birthCity, deathYear, deathMonth, deathDay, deathCountry, deathState, deathCity, nameFirst, nameLast, nameGiven, weight, height, bats, throws, debut, finalGame, retroID, bbrefID, careerLength, StateWeather, yearID, stint, teamID, lgID, G, AB, R, H, 2B, 3B, HR, RBI, SB, CS, BB, SO, IBB, HBP, SH, SF, GIDP, statBA, statOBP, statSLUG, statOPS+, statOpsWght, MVP, team_BA, team_OBP, team_SLUG, team_OPS+, team_OpsWght, %_team_OPS+]\n",
       "Index: []\n",
       "\n",
       "[0 rows x 59 columns]"
      ]
     },
     "execution_count": 33,
     "metadata": {},
     "output_type": "execute_result"
    }
   ],
   "source": [
    "master_player_team.query('MVP == \"TRUE\"')"
   ]
  },
  {
   "cell_type": "markdown",
   "metadata": {},
   "source": [
    "If we roll this out to seasons after 1900, which can generally be assumed when baseball began forming into the game we know more today, we see Stan Musial in 1948 with the greatest % of his team's offsensive output. If you take a look at the 1948 Cardinals season, you will see that Stan's MVP season truly stood out from the rest.\n",
    "\n",
    "http://www.baseball-reference.com/teams/STL/1948.shtml"
   ]
  },
  {
   "cell_type": "markdown",
   "metadata": {},
   "source": [
    "There are many things to discover about this data. Having played baseball and having general awareness to many baseball statistics there a certain \"random\" which may be of fun fact. For instance, it may be interesting to know who was the best \"team-mate\" of all time, or maybe how players \"peak\" years have evolved over time.\n",
    "\n",
    "Some highlited details that Udacity would like me to look at are the relationship between different metrics, analyzing independent (3) and dependent (1) variables, and the characteristics of players with the highest salaries.\n",
    "\n",
    "Lets begin.."
   ]
  },
  {
   "cell_type": "markdown",
   "metadata": {},
   "source": [
    "## A few supporting metrics:"
   ]
  },
  {
   "cell_type": "code",
   "execution_count": 29,
   "metadata": {
    "collapsed": false
   },
   "outputs": [
    {
     "ename": "NameError",
     "evalue": "name 'x' is not defined",
     "output_type": "error",
     "traceback": [
      "\u001b[0;31m---------------------------------------------------------------------------\u001b[0m",
      "\u001b[0;31mNameError\u001b[0m                                 Traceback (most recent call last)",
      "\u001b[0;32m<ipython-input-29-3f8f56a9af86>\u001b[0m in \u001b[0;36m<module>\u001b[0;34m()\u001b[0m\n\u001b[1;32m      1\u001b[0m \u001b[1;31m# Career OPS of players of fair-weather states vs not\u001b[0m\u001b[1;33m\u001b[0m\u001b[1;33m\u001b[0m\u001b[0m\n\u001b[1;32m      2\u001b[0m \u001b[1;31m# f_Obp(H,BB,IBB,HBP,SF,AB)\u001b[0m\u001b[1;33m\u001b[0m\u001b[1;33m\u001b[0m\u001b[0m\n\u001b[0;32m----> 3\u001b[0;31m \u001b[1;34m\"Fair weather: \"\u001b[0m \u001b[1;33m+\u001b[0m \u001b[0mstr\u001b[0m\u001b[1;33m(\u001b[0m\u001b[0mf_Obp\u001b[0m\u001b[1;33m(\u001b[0m\u001b[0mmaster_player_season\u001b[0m\u001b[1;33m.\u001b[0m\u001b[0mgroupby\u001b[0m\u001b[1;33m(\u001b[0m\u001b[1;34m'StateWeather'\u001b[0m\u001b[1;33m)\u001b[0m\u001b[1;33m[\u001b[0m\u001b[1;34m'H'\u001b[0m\u001b[1;33m]\u001b[0m\u001b[1;33m.\u001b[0m\u001b[0msum\u001b[0m\u001b[1;33m(\u001b[0m\u001b[1;33m)\u001b[0m\u001b[1;33m[\u001b[0m\u001b[1;36m1\u001b[0m\u001b[1;33m]\u001b[0m\u001b[1;33m,\u001b[0m                             \u001b[0mmaster_player_season\u001b[0m\u001b[1;33m.\u001b[0m\u001b[0mgroupby\u001b[0m\u001b[1;33m(\u001b[0m\u001b[1;34m'StateWeather'\u001b[0m\u001b[1;33m)\u001b[0m\u001b[1;33m[\u001b[0m\u001b[1;34m'BB'\u001b[0m\u001b[1;33m]\u001b[0m\u001b[1;33m.\u001b[0m\u001b[0msum\u001b[0m\u001b[1;33m(\u001b[0m\u001b[1;33m)\u001b[0m\u001b[1;33m[\u001b[0m\u001b[1;36m1\u001b[0m\u001b[1;33m]\u001b[0m\u001b[1;33m,\u001b[0m                             \u001b[0mmaster_player_season\u001b[0m\u001b[1;33m.\u001b[0m\u001b[0mgroupby\u001b[0m\u001b[1;33m(\u001b[0m\u001b[1;34m'StateWeather'\u001b[0m\u001b[1;33m)\u001b[0m\u001b[1;33m[\u001b[0m\u001b[1;34m'IBB'\u001b[0m\u001b[1;33m]\u001b[0m\u001b[1;33m.\u001b[0m\u001b[0msum\u001b[0m\u001b[1;33m(\u001b[0m\u001b[1;33m)\u001b[0m\u001b[1;33m[\u001b[0m\u001b[1;36m1\u001b[0m\u001b[1;33m]\u001b[0m\u001b[1;33m,\u001b[0m                             \u001b[0mmaster_player_season\u001b[0m\u001b[1;33m.\u001b[0m\u001b[0mgroupby\u001b[0m\u001b[1;33m(\u001b[0m\u001b[1;34m'StateWeather'\u001b[0m\u001b[1;33m)\u001b[0m\u001b[1;33m[\u001b[0m\u001b[1;34m'HBP'\u001b[0m\u001b[1;33m]\u001b[0m\u001b[1;33m.\u001b[0m\u001b[0msum\u001b[0m\u001b[1;33m(\u001b[0m\u001b[1;33m)\u001b[0m\u001b[1;33m[\u001b[0m\u001b[1;36m1\u001b[0m\u001b[1;33m]\u001b[0m\u001b[1;33m,\u001b[0m                             \u001b[0mmaster_player_season\u001b[0m\u001b[1;33m.\u001b[0m\u001b[0mgroupby\u001b[0m\u001b[1;33m(\u001b[0m\u001b[1;34m'StateWeather'\u001b[0m\u001b[1;33m)\u001b[0m\u001b[1;33m[\u001b[0m\u001b[1;34m'SF'\u001b[0m\u001b[1;33m]\u001b[0m\u001b[1;33m.\u001b[0m\u001b[0msum\u001b[0m\u001b[1;33m(\u001b[0m\u001b[1;33m)\u001b[0m\u001b[1;33m[\u001b[0m\u001b[1;36m1\u001b[0m\u001b[1;33m]\u001b[0m\u001b[1;33m,\u001b[0m                             \u001b[0mmaster_player_season\u001b[0m\u001b[1;33m.\u001b[0m\u001b[0mgroupby\u001b[0m\u001b[1;33m(\u001b[0m\u001b[1;34m'StateWeather'\u001b[0m\u001b[1;33m)\u001b[0m\u001b[1;33m[\u001b[0m\u001b[1;34m'AB'\u001b[0m\u001b[1;33m]\u001b[0m\u001b[1;33m.\u001b[0m\u001b[0msum\u001b[0m\u001b[1;33m(\u001b[0m\u001b[1;33m)\u001b[0m\u001b[1;33m[\u001b[0m\u001b[1;36m1\u001b[0m\u001b[1;33m]\u001b[0m\u001b[1;33m)\u001b[0m\u001b[1;33m)\u001b[0m\u001b[1;33m+\u001b[0m\u001b[1;34m\" Not so Fair weather: \"\u001b[0m \u001b[1;33m+\u001b[0m \u001b[0mstr\u001b[0m\u001b[1;33m(\u001b[0m\u001b[0mf_Obp\u001b[0m\u001b[1;33m(\u001b[0m\u001b[0mx\u001b[0m\u001b[1;33m.\u001b[0m\u001b[0mgroupby\u001b[0m\u001b[1;33m(\u001b[0m\u001b[1;34m'StateWeather'\u001b[0m\u001b[1;33m)\u001b[0m\u001b[1;33m[\u001b[0m\u001b[1;34m'H'\u001b[0m\u001b[1;33m]\u001b[0m\u001b[1;33m.\u001b[0m\u001b[0msum\u001b[0m\u001b[1;33m(\u001b[0m\u001b[1;33m)\u001b[0m\u001b[1;33m[\u001b[0m\u001b[1;36m0\u001b[0m\u001b[1;33m]\u001b[0m\u001b[1;33m,\u001b[0m                             \u001b[0mmaster_player_season\u001b[0m\u001b[1;33m.\u001b[0m\u001b[0mgroupby\u001b[0m\u001b[1;33m(\u001b[0m\u001b[1;34m'StateWeather'\u001b[0m\u001b[1;33m)\u001b[0m\u001b[1;33m[\u001b[0m\u001b[1;34m'BB'\u001b[0m\u001b[1;33m]\u001b[0m\u001b[1;33m.\u001b[0m\u001b[0msum\u001b[0m\u001b[1;33m(\u001b[0m\u001b[1;33m)\u001b[0m\u001b[1;33m[\u001b[0m\u001b[1;36m0\u001b[0m\u001b[1;33m]\u001b[0m\u001b[1;33m,\u001b[0m                             \u001b[0mmaster_player_season\u001b[0m\u001b[1;33m.\u001b[0m\u001b[0mgroupby\u001b[0m\u001b[1;33m(\u001b[0m\u001b[1;34m'StateWeather'\u001b[0m\u001b[1;33m)\u001b[0m\u001b[1;33m[\u001b[0m\u001b[1;34m'IBB'\u001b[0m\u001b[1;33m]\u001b[0m\u001b[1;33m.\u001b[0m\u001b[0msum\u001b[0m\u001b[1;33m(\u001b[0m\u001b[1;33m)\u001b[0m\u001b[1;33m[\u001b[0m\u001b[1;36m0\u001b[0m\u001b[1;33m]\u001b[0m\u001b[1;33m,\u001b[0m                             \u001b[0mmaster_player_season\u001b[0m\u001b[1;33m.\u001b[0m\u001b[0mgroupby\u001b[0m\u001b[1;33m(\u001b[0m\u001b[1;34m'StateWeather'\u001b[0m\u001b[1;33m)\u001b[0m\u001b[1;33m[\u001b[0m\u001b[1;34m'HBP'\u001b[0m\u001b[1;33m]\u001b[0m\u001b[1;33m.\u001b[0m\u001b[0msum\u001b[0m\u001b[1;33m(\u001b[0m\u001b[1;33m)\u001b[0m\u001b[1;33m[\u001b[0m\u001b[1;36m0\u001b[0m\u001b[1;33m]\u001b[0m\u001b[1;33m,\u001b[0m                             \u001b[0mmaster_player_season\u001b[0m\u001b[1;33m.\u001b[0m\u001b[0mgroupby\u001b[0m\u001b[1;33m(\u001b[0m\u001b[1;34m'StateWeather'\u001b[0m\u001b[1;33m)\u001b[0m\u001b[1;33m[\u001b[0m\u001b[1;34m'SF'\u001b[0m\u001b[1;33m]\u001b[0m\u001b[1;33m.\u001b[0m\u001b[0msum\u001b[0m\u001b[1;33m(\u001b[0m\u001b[1;33m)\u001b[0m\u001b[1;33m[\u001b[0m\u001b[1;36m0\u001b[0m\u001b[1;33m]\u001b[0m\u001b[1;33m,\u001b[0m                             \u001b[0mmaster_player_season\u001b[0m\u001b[1;33m.\u001b[0m\u001b[0mgroupby\u001b[0m\u001b[1;33m(\u001b[0m\u001b[1;34m'StateWeather'\u001b[0m\u001b[1;33m)\u001b[0m\u001b[1;33m[\u001b[0m\u001b[1;34m'AB'\u001b[0m\u001b[1;33m]\u001b[0m\u001b[1;33m.\u001b[0m\u001b[0msum\u001b[0m\u001b[1;33m(\u001b[0m\u001b[1;33m)\u001b[0m\u001b[1;33m[\u001b[0m\u001b[1;36m0\u001b[0m\u001b[1;33m]\u001b[0m\u001b[1;33m)\u001b[0m\u001b[1;33m)\u001b[0m\u001b[1;33m\u001b[0m\u001b[0m\n\u001b[0m\u001b[1;32m      4\u001b[0m \u001b[1;31m#Print \"Fair Weather OPS: \" + x.loc[x['StateWeather'] == True,'H'].sum() +\\\u001b[0m\u001b[1;33m\u001b[0m\u001b[1;33m\u001b[0m\u001b[0m\n\u001b[1;32m      5\u001b[0m \u001b[1;31m#x.loc[x['StateWeather'] == True,'BB'].sum()+\\\u001b[0m\u001b[1;33m\u001b[0m\u001b[1;33m\u001b[0m\u001b[0m\n",
      "\u001b[0;31mNameError\u001b[0m: name 'x' is not defined"
     ]
    }
   ],
   "source": [
    "# Career OPS of players of fair-weather states vs not\n",
    "# f_Obp(H,BB,IBB,HBP,SF,AB)\n",
    "\"Fair weather: \" + str(f_Obp(master_player_season.groupby('StateWeather')['H'].sum()[1],\\\n",
    "                             master_player_season.groupby('StateWeather')['BB'].sum()[1],\\\n",
    "                             master_player_season.groupby('StateWeather')['IBB'].sum()[1],\\\n",
    "                             master_player_season.groupby('StateWeather')['HBP'].sum()[1],\\\n",
    "                             master_player_season.groupby('StateWeather')['SF'].sum()[1],\\\n",
    "                             master_player_season.groupby('StateWeather')['AB'].sum()[1]))+\\\n",
    "\" Not so Fair weather: \" + str(f_Obp(x.groupby('StateWeather')['H'].sum()[0],\\\n",
    "                             master_player_season.groupby('StateWeather')['BB'].sum()[0],\\\n",
    "                             master_player_season.groupby('StateWeather')['IBB'].sum()[0],\\\n",
    "                             master_player_season.groupby('StateWeather')['HBP'].sum()[0],\\\n",
    "                             master_player_season.groupby('StateWeather')['SF'].sum()[0],\\\n",
    "                             master_player_season.groupby('StateWeather')['AB'].sum()[0]))\n",
    "#Print \"Fair Weather OPS: \" + x.loc[x['StateWeather'] == True,'H'].sum() +\\\n",
    "#x.loc[x['StateWeather'] == True,'BB'].sum()+\\\n",
    "#x.loc[x['StateWeather'] == True,'IBB'].sum()+\\\n",
    "#x.loc[x['StateWeather'] == True,'HBP'].sum()+\\\n",
    "#x.loc[x['StateWeather'] == True,'SF'].sum()+\\\n",
    "#x.loc[x['StateWeather'] == True,'AB'].sum()"
   ]
  },
  {
   "cell_type": "markdown",
   "metadata": {
    "collapsed": true
   },
   "source": [
    "Number of people who have played MLB (from dataset).. 18,589"
   ]
  },
  {
   "cell_type": "code",
   "execution_count": null,
   "metadata": {
    "collapsed": false
   },
   "outputs": [],
   "source": [
    "totplayers = fileMaster.shape[0]"
   ]
  },
  {
   "cell_type": "markdown",
   "metadata": {},
   "source": [
    "How many different countries have been represented in the MLB?.. 52"
   ]
  },
  {
   "cell_type": "code",
   "execution_count": null,
   "metadata": {
    "collapsed": false
   },
   "outputs": [],
   "source": [
    "fileMaster.groupby(['birthCountry']).size()"
   ]
  },
  {
   "cell_type": "markdown",
   "metadata": {},
   "source": [
    "So.."
   ]
  },
  {
   "cell_type": "code",
   "execution_count": null,
   "metadata": {
    "collapsed": false
   },
   "outputs": [],
   "source": [
    "len(fileMaster.groupby(['birthCountry']).size())"
   ]
  },
  {
   "cell_type": "markdown",
   "metadata": {},
   "source": [
    "It seems there maybe some holes in our dataset i.e. players without a birth country.."
   ]
  },
  {
   "cell_type": "code",
   "execution_count": null,
   "metadata": {
    "collapsed": false
   },
   "outputs": [],
   "source": [
    "fileMaster.fillna"
   ]
  },
  {
   "cell_type": "code",
   "execution_count": null,
   "metadata": {
    "collapsed": false
   },
   "outputs": [],
   "source": [
    "fileMaster.groupby(['birthCountry']).size()"
   ]
  },
  {
   "cell_type": "markdown",
   "metadata": {},
   "source": [
    "Of the USA players how many states have been represented?.. 51 (All + DC included)"
   ]
  },
  {
   "cell_type": "code",
   "execution_count": null,
   "metadata": {
    "collapsed": false
   },
   "outputs": [],
   "source": [
    "fileMaster[(fileMaster['birthCountry'] == 'USA')].groupby(['birthState']).size()"
   ]
  },
  {
   "cell_type": "code",
   "execution_count": null,
   "metadata": {
    "collapsed": false
   },
   "outputs": [],
   "source": [
    "len(fileMaster[(fileMaster['birthCountry'] == 'USA')].groupby(['birthState']).size())"
   ]
  },
  {
   "cell_type": "markdown",
   "metadata": {},
   "source": [
    "What % of players have become deceased?.. ~50%"
   ]
  },
  {
   "cell_type": "code",
   "execution_count": null,
   "metadata": {
    "collapsed": false
   },
   "outputs": [],
   "source": [
    "fileMaster.groupby(['deathYear']).size().sum() / totplayers"
   ]
  },
  {
   "cell_type": "markdown",
   "metadata": {},
   "source": [
    "Heaviest/Lightest/Tallest/Shortest reported player ever?"
   ]
  },
  {
   "cell_type": "code",
   "execution_count": null,
   "metadata": {
    "collapsed": false
   },
   "outputs": [],
   "source": [
    "fileMaster.loc[fileMaster['weight'].argmax(),'nameGiven'] + \" \" + fileMaster.loc[fileMaster['weight'].argmax(),'nameLast'] + \" @ \" + str(fileMaster['weight'].max())"
   ]
  },
  {
   "cell_type": "code",
   "execution_count": null,
   "metadata": {
    "collapsed": false
   },
   "outputs": [],
   "source": [
    "fileMaster.loc[fileMaster['weight'].argmin(),'nameGiven'] + \" \" + fileMaster.loc[fileMaster['weight'].argmin(),'nameLast'] + \" @ \" + str(fileMaster['weight'].min())"
   ]
  },
  {
   "cell_type": "code",
   "execution_count": null,
   "metadata": {
    "collapsed": false
   },
   "outputs": [],
   "source": [
    "fileMaster.loc[fileMaster['height'].argmax(),'nameGiven'] + \" \" + fileMaster.loc[fileMaster['height'].argmax(),'nameLast'] + \" @ \" + str(fileMaster['height'].max())"
   ]
  },
  {
   "cell_type": "code",
   "execution_count": null,
   "metadata": {
    "collapsed": false
   },
   "outputs": [],
   "source": [
    "fileMaster.loc[fileMaster['height'].argmin(),'nameGiven'] + \" \" + fileMaster.loc[fileMaster['height'].argmin(),'nameLast'] + \" @ \" + str(fileMaster['height'].min())"
   ]
  },
  {
   "cell_type": "code",
   "execution_count": null,
   "metadata": {
    "collapsed": false
   },
   "outputs": [],
   "source": [
    "fileMaster.plot(x='height', y='weight', style='ro')"
   ]
  },
  {
   "cell_type": "markdown",
   "metadata": {},
   "source": [
    "Now lets get to some of these baseball stats. "
   ]
  },
  {
   "cell_type": "markdown",
   "metadata": {},
   "source": [
    "Max HRs per year"
   ]
  },
  {
   "cell_type": "code",
   "execution_count": null,
   "metadata": {
    "collapsed": false
   },
   "outputs": [],
   "source": [
    "#fileBatting.groupby('yearID')['HR'].max()"
   ]
  },
  {
   "cell_type": "markdown",
   "metadata": {},
   "source": [
    "Interesting, and how about something arbitrary, ABs?"
   ]
  },
  {
   "cell_type": "code",
   "execution_count": null,
   "metadata": {
    "collapsed": false
   },
   "outputs": [],
   "source": [
    "#fileBatting.groupby('yearID')['AB'].max()"
   ]
  },
  {
   "cell_type": "markdown",
   "metadata": {},
   "source": [
    "Lets flip to the defensive side of the ball."
   ]
  },
  {
   "cell_type": "markdown",
   "metadata": {},
   "source": [
    "By year, by position, average"
   ]
  },
  {
   "cell_type": "code",
   "execution_count": null,
   "metadata": {
    "collapsed": false
   },
   "outputs": [],
   "source": [
    "#fileFielding.groupby('yearID').groups"
   ]
  },
  {
   "cell_type": "markdown",
   "metadata": {
    "collapsed": false
   },
   "source": [
    "Creating a teammate relations table\n",
    "\n",
    "Example: playerID: {\n",
    "                    yearID: {\n",
    "                             teammates playerID: \n",
    "                   }        }"
   ]
  },
  {
   "cell_type": "code",
   "execution_count": null,
   "metadata": {
    "collapsed": true
   },
   "outputs": [],
   "source": []
  }
 ],
 "metadata": {
  "anaconda-cloud": {},
  "kernelspec": {
   "display_name": "Python [conda env:py27]",
   "language": "python",
   "name": "conda-env-py27-py"
  },
  "language_info": {
   "codemirror_mode": {
    "name": "ipython",
    "version": 2
   },
   "file_extension": ".py",
   "mimetype": "text/x-python",
   "name": "python",
   "nbconvert_exporter": "python",
   "pygments_lexer": "ipython2",
   "version": "2.7.13"
  }
 },
 "nbformat": 4,
 "nbformat_minor": 2
}
