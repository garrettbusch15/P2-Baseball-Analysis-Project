{
 "cells": [
  {
   "cell_type": "markdown",
   "metadata": {},
   "source": [
    "# P2 Project Submission\n",
    "### By Garrett Busch \n",
    "### Apr 2017\n",
    "\n",
    "## Introduction \n",
    "\n",
    "Baseball has long been considered America's pasttime.  It's hard to argue with considering the continued success, world intrigue, baseball coliseum's and the oh-so unforgetable comfort food. Looking past these inviting activities, your left with a game, just a game. This game, for the most part, has been played almost exactly the same way for 100+ years. 1 of the major reasons baseball has remained the same (aside from some mound changes, strikezone variation, baseball technology)  is because of the prevalence of statistics. \n",
    "\n",
    "In today's game, we have what are called saber-metrics that look to compare anything from  offensive prowess to defensive efficiency to pitcher accuracy & pitch selection.  In this project we will engineer our own metric for offensive ability (relatively simplistic at that) as we work with a dataset that is geared toward traditional baseball data points (Hit, At Bat, Home Run, etc.). The purpose of this project is to provide a logical data analysis project that ultimately seeks to help answer questions I pose.\n",
    "\n",
    "Let's get started.\n",
    "\n",
    "## Questions to be answered\n",
    "\n",
    "In terms of individual and team performance, what were some of the  greatest disparities from an individuals season vs. the next best on the team? (an unequivocal MVP)\n",
    "[See answer](#question1)\n",
    "\n",
    "What players, over the course of their careers, had constantly faced the above matched environment?\n",
    "[See answer](#question2)\n",
    "\n",
    "How often was the MVP winner the leader in this statistic?\n",
    "[See answer](#question3)\n",
    "\n",
    "How did team's fare that matched this particular condition? Can a player truly \"carry\" the whole team?\n",
    "[See answer](#question4)\n",
    "\n",
    "## Noteable considerations\n",
    "\n",
    "Because data is being summarized on a season level, any analysis, will have to be calculated at this level and because of this we risk favor/unfavoring: rookie seasons, injured seasons, etc. In the case of valuing a players offensive contribution the previously mentioned will undoubtedly discount a players total contribution as they may have not been available or present in order to contribute.\n",
    "\n",
    "## Resources used\n",
    "\n",
    "Python docs https://docs.python.org/3/\n",
    "\n",
    "##  Verify and checking data\n",
    "\n",
    "Generally, we'd like to take an initial dive into the data either to identify holes, anomolies, etc.. \n",
    "\n",
    "We'll need to import some initial libraries."
   ]
  },
  {
   "cell_type": "code",
   "execution_count": 1,
   "metadata": {
    "collapsed": false
   },
   "outputs": [],
   "source": [
    "import numpy as np\n",
    "import pandas as pd\n",
    "import matplotlib.pyplot as plt\n",
    "#import pandas.tools.plotting as pdplt\n",
    "from datetime import date\n",
    "from datetime import datetime\n",
    "plt.style.use('ggplot')\n",
    "%matplotlib inline"
   ]
  },
  {
   "cell_type": "markdown",
   "metadata": {},
   "source": [
    "Lets also  include the links to the associated data."
   ]
  },
  {
   "cell_type": "code",
   "execution_count": 2,
   "metadata": {
    "collapsed": true
   },
   "outputs": [],
   "source": [
    "GHreposit = \"https://raw.githubusercontent.com/garrettbusch15/P2-Baseball-Analysis-Project/\"\n",
    "subfolder = \"master/Data/\""
   ]
  },
  {
   "cell_type": "markdown",
   "metadata": {},
   "source": [
    "Now read the data in."
   ]
  },
  {
   "cell_type": "code",
   "execution_count": 3,
   "metadata": {
    "collapsed": false
   },
   "outputs": [],
   "source": [
    "# Shift-Tab to see paramters/help for function\n",
    "fileMaster = pd.read_csv(GHreposit + subfolder + 'Master.csv')\n",
    "fileBatting = pd.read_csv(GHreposit + subfolder + 'Batting.csv')\n",
    "fileTeam = pd.read_csv(GHreposit + subfolder + 'Teams.csv')\n",
    "fileAwards = pd.read_csv(GHreposit + subfolder + 'AwardsPlayers.csv')"
   ]
  },
  {
   "cell_type": "code",
   "execution_count": 4,
   "metadata": {
    "collapsed": false
   },
   "outputs": [
    {
     "data": {
      "text/html": [
       "<div>\n",
       "<table border=\"1\" class=\"dataframe\">\n",
       "  <thead>\n",
       "    <tr style=\"text-align: right;\">\n",
       "      <th></th>\n",
       "      <th>playerID</th>\n",
       "      <th>birthYear</th>\n",
       "      <th>birthMonth</th>\n",
       "      <th>birthDay</th>\n",
       "      <th>birthCountry</th>\n",
       "      <th>birthState</th>\n",
       "      <th>birthCity</th>\n",
       "      <th>deathYear</th>\n",
       "      <th>deathMonth</th>\n",
       "      <th>deathDay</th>\n",
       "      <th>...</th>\n",
       "      <th>nameLast</th>\n",
       "      <th>nameGiven</th>\n",
       "      <th>weight</th>\n",
       "      <th>height</th>\n",
       "      <th>bats</th>\n",
       "      <th>throws</th>\n",
       "      <th>debut</th>\n",
       "      <th>finalGame</th>\n",
       "      <th>retroID</th>\n",
       "      <th>bbrefID</th>\n",
       "    </tr>\n",
       "  </thead>\n",
       "  <tbody>\n",
       "    <tr>\n",
       "      <th>0</th>\n",
       "      <td>aardsda01</td>\n",
       "      <td>1981.0</td>\n",
       "      <td>12.0</td>\n",
       "      <td>27.0</td>\n",
       "      <td>USA</td>\n",
       "      <td>CO</td>\n",
       "      <td>Denver</td>\n",
       "      <td>NaN</td>\n",
       "      <td>NaN</td>\n",
       "      <td>NaN</td>\n",
       "      <td>...</td>\n",
       "      <td>Aardsma</td>\n",
       "      <td>David Allan</td>\n",
       "      <td>205.0</td>\n",
       "      <td>75.0</td>\n",
       "      <td>R</td>\n",
       "      <td>R</td>\n",
       "      <td>4/6/2004</td>\n",
       "      <td>9/28/2013</td>\n",
       "      <td>aardd001</td>\n",
       "      <td>aardsda01</td>\n",
       "    </tr>\n",
       "    <tr>\n",
       "      <th>1</th>\n",
       "      <td>aaronha01</td>\n",
       "      <td>1934.0</td>\n",
       "      <td>2.0</td>\n",
       "      <td>5.0</td>\n",
       "      <td>USA</td>\n",
       "      <td>AL</td>\n",
       "      <td>Mobile</td>\n",
       "      <td>NaN</td>\n",
       "      <td>NaN</td>\n",
       "      <td>NaN</td>\n",
       "      <td>...</td>\n",
       "      <td>Aaron</td>\n",
       "      <td>Henry Louis</td>\n",
       "      <td>180.0</td>\n",
       "      <td>72.0</td>\n",
       "      <td>R</td>\n",
       "      <td>R</td>\n",
       "      <td>4/13/1954</td>\n",
       "      <td>10/3/1976</td>\n",
       "      <td>aaroh101</td>\n",
       "      <td>aaronha01</td>\n",
       "    </tr>\n",
       "    <tr>\n",
       "      <th>2</th>\n",
       "      <td>aaronto01</td>\n",
       "      <td>1939.0</td>\n",
       "      <td>8.0</td>\n",
       "      <td>5.0</td>\n",
       "      <td>USA</td>\n",
       "      <td>AL</td>\n",
       "      <td>Mobile</td>\n",
       "      <td>1984.0</td>\n",
       "      <td>8.0</td>\n",
       "      <td>16.0</td>\n",
       "      <td>...</td>\n",
       "      <td>Aaron</td>\n",
       "      <td>Tommie Lee</td>\n",
       "      <td>190.0</td>\n",
       "      <td>75.0</td>\n",
       "      <td>R</td>\n",
       "      <td>R</td>\n",
       "      <td>4/10/1962</td>\n",
       "      <td>9/26/1971</td>\n",
       "      <td>aarot101</td>\n",
       "      <td>aaronto01</td>\n",
       "    </tr>\n",
       "    <tr>\n",
       "      <th>3</th>\n",
       "      <td>aasedo01</td>\n",
       "      <td>1954.0</td>\n",
       "      <td>9.0</td>\n",
       "      <td>8.0</td>\n",
       "      <td>USA</td>\n",
       "      <td>CA</td>\n",
       "      <td>Orange</td>\n",
       "      <td>NaN</td>\n",
       "      <td>NaN</td>\n",
       "      <td>NaN</td>\n",
       "      <td>...</td>\n",
       "      <td>Aase</td>\n",
       "      <td>Donald William</td>\n",
       "      <td>190.0</td>\n",
       "      <td>75.0</td>\n",
       "      <td>R</td>\n",
       "      <td>R</td>\n",
       "      <td>7/26/1977</td>\n",
       "      <td>10/3/1990</td>\n",
       "      <td>aased001</td>\n",
       "      <td>aasedo01</td>\n",
       "    </tr>\n",
       "    <tr>\n",
       "      <th>4</th>\n",
       "      <td>abadan01</td>\n",
       "      <td>1972.0</td>\n",
       "      <td>8.0</td>\n",
       "      <td>25.0</td>\n",
       "      <td>USA</td>\n",
       "      <td>FL</td>\n",
       "      <td>Palm Beach</td>\n",
       "      <td>NaN</td>\n",
       "      <td>NaN</td>\n",
       "      <td>NaN</td>\n",
       "      <td>...</td>\n",
       "      <td>Abad</td>\n",
       "      <td>Fausto Andres</td>\n",
       "      <td>184.0</td>\n",
       "      <td>73.0</td>\n",
       "      <td>L</td>\n",
       "      <td>L</td>\n",
       "      <td>9/10/2001</td>\n",
       "      <td>4/13/2006</td>\n",
       "      <td>abada001</td>\n",
       "      <td>abadan01</td>\n",
       "    </tr>\n",
       "  </tbody>\n",
       "</table>\n",
       "<p>5 rows × 24 columns</p>\n",
       "</div>"
      ],
      "text/plain": [
       "    playerID  birthYear  birthMonth  birthDay birthCountry birthState  \\\n",
       "0  aardsda01     1981.0        12.0      27.0          USA         CO   \n",
       "1  aaronha01     1934.0         2.0       5.0          USA         AL   \n",
       "2  aaronto01     1939.0         8.0       5.0          USA         AL   \n",
       "3   aasedo01     1954.0         9.0       8.0          USA         CA   \n",
       "4   abadan01     1972.0         8.0      25.0          USA         FL   \n",
       "\n",
       "    birthCity  deathYear  deathMonth  deathDay    ...     nameLast  \\\n",
       "0      Denver        NaN         NaN       NaN    ...      Aardsma   \n",
       "1      Mobile        NaN         NaN       NaN    ...        Aaron   \n",
       "2      Mobile     1984.0         8.0      16.0    ...        Aaron   \n",
       "3      Orange        NaN         NaN       NaN    ...         Aase   \n",
       "4  Palm Beach        NaN         NaN       NaN    ...         Abad   \n",
       "\n",
       "        nameGiven weight height bats throws      debut  finalGame   retroID  \\\n",
       "0     David Allan  205.0   75.0    R      R   4/6/2004  9/28/2013  aardd001   \n",
       "1     Henry Louis  180.0   72.0    R      R  4/13/1954  10/3/1976  aaroh101   \n",
       "2      Tommie Lee  190.0   75.0    R      R  4/10/1962  9/26/1971  aarot101   \n",
       "3  Donald William  190.0   75.0    R      R  7/26/1977  10/3/1990  aased001   \n",
       "4   Fausto Andres  184.0   73.0    L      L  9/10/2001  4/13/2006  abada001   \n",
       "\n",
       "     bbrefID  \n",
       "0  aardsda01  \n",
       "1  aaronha01  \n",
       "2  aaronto01  \n",
       "3   aasedo01  \n",
       "4   abadan01  \n",
       "\n",
       "[5 rows x 24 columns]"
      ]
     },
     "execution_count": 4,
     "metadata": {},
     "output_type": "execute_result"
    }
   ],
   "source": [
    "fileMaster.head(5)"
   ]
  },
  {
   "cell_type": "markdown",
   "metadata": {},
   "source": [
    "The master seems like the best place to start.  We have a few different fields in the Master dataframe including text, dates and floating numbers.  There are a few fields worth filling out even if we may not neccessarily be directly using the fields in this analysis."
   ]
  },
  {
   "cell_type": "code",
   "execution_count": 5,
   "metadata": {
    "collapsed": false
   },
   "outputs": [
    {
     "data": {
      "text/plain": [
       "{dtype('float64'): Index([u'birthYear', u'birthMonth', u'birthDay', u'deathYear', u'deathMonth',\n",
       "        u'deathDay', u'weight', u'height'],\n",
       "       dtype='object'),\n",
       " dtype('O'): Index([u'playerID', u'birthCountry', u'birthState', u'birthCity',\n",
       "        u'deathCountry', u'deathState', u'deathCity', u'nameFirst', u'nameLast',\n",
       "        u'nameGiven', u'bats', u'throws', u'debut', u'finalGame', u'retroID',\n",
       "        u'bbrefID'],\n",
       "       dtype='object')}"
      ]
     },
     "execution_count": 5,
     "metadata": {},
     "output_type": "execute_result"
    }
   ],
   "source": [
    "OverviewFM = fileMaster.columns.to_series().groupby(fileMaster.dtypes).groups\n",
    "OverviewFM"
   ]
  },
  {
   "cell_type": "markdown",
   "metadata": {},
   "source": [
    "## Missing values/Conversion"
   ]
  },
  {
   "cell_type": "markdown",
   "metadata": {},
   "source": [
    "In the below cells, we will look to ensure data reliability, fill in missing values and manipulate between the varying dataframes we've been given."
   ]
  },
  {
   "cell_type": "code",
   "execution_count": 6,
   "metadata": {
    "collapsed": false
   },
   "outputs": [
    {
     "name": "stdout",
     "output_type": "stream",
     "text": [
      "<class 'pandas.core.frame.DataFrame'>\n",
      "RangeIndex: 18589 entries, 0 to 18588\n",
      "Data columns (total 24 columns):\n",
      "playerID        18589 non-null object\n",
      "birthYear       18444 non-null float64\n",
      "birthMonth      18274 non-null float64\n",
      "birthDay        18117 non-null float64\n",
      "birthCountry    18516 non-null object\n",
      "birthState      17975 non-null object\n",
      "birthCity       18389 non-null object\n",
      "deathYear       9225 non-null float64\n",
      "deathMonth      9224 non-null float64\n",
      "deathDay        9223 non-null float64\n",
      "deathCountry    9223 non-null object\n",
      "deathState      9169 non-null object\n",
      "deathCity       9219 non-null object\n",
      "nameFirst       18549 non-null object\n",
      "nameLast        18589 non-null object\n",
      "nameGiven       18549 non-null object\n",
      "weight          17717 non-null float64\n",
      "height          17780 non-null float64\n",
      "bats            17399 non-null object\n",
      "throws          17610 non-null object\n",
      "debut           18399 non-null object\n",
      "finalGame       18399 non-null object\n",
      "retroID         18535 non-null object\n",
      "bbrefID         18588 non-null object\n",
      "dtypes: float64(8), object(16)\n",
      "memory usage: 2.3+ MB\n"
     ]
    }
   ],
   "source": [
    "fileMaster.info()"
   ]
  },
  {
   "cell_type": "code",
   "execution_count": 7,
   "metadata": {
    "collapsed": true
   },
   "outputs": [],
   "source": [
    "# 1/24/15 is the date of this data's publishing\n",
    "fileMaster['finalGame'].fillna('1/24/2015', inplace=True)\n",
    "fileMaster['debut'] = pd.to_datetime(fileMaster['debut'])\n",
    "fileMaster['finalGame'] = pd.to_datetime(fileMaster['finalGame'])"
   ]
  },
  {
   "cell_type": "markdown",
   "metadata": {},
   "source": [
    "We also will have a few fields that can simply  be calculated by what we have available that may be useful down the road."
   ]
  },
  {
   "cell_type": "code",
   "execution_count": 8,
   "metadata": {
    "collapsed": false
   },
   "outputs": [],
   "source": [
    "fileMaster['careerLength'] = fileMaster['finalGame'] - fileMaster['debut']"
   ]
  },
  {
   "cell_type": "markdown",
   "metadata": {},
   "source": [
    "One of the questions we've outlined above wants to see performance results of 'warm-weather born players' vs. all the others. The 'warm-weather' states have been outlined above but are is generally the southern half of the US."
   ]
  },
  {
   "cell_type": "code",
   "execution_count": 9,
   "metadata": {
    "collapsed": true
   },
   "outputs": [],
   "source": [
    "fair_weather_stats = ['CA','TX','FL','AZ','NV','NM', 'GA', 'LA', 'AL', 'MS']"
   ]
  },
  {
   "cell_type": "code",
   "execution_count": 10,
   "metadata": {
    "collapsed": false
   },
   "outputs": [],
   "source": [
    "fileMaster['StateWeather'] = fileMaster['birthState'].map(lambda x: True if x in fair_weather_stats else False)"
   ]
  },
  {
   "cell_type": "markdown",
   "metadata": {},
   "source": [
    "At this point, below is what the master dataframe looks like:"
   ]
  },
  {
   "cell_type": "code",
   "execution_count": 11,
   "metadata": {
    "collapsed": false
   },
   "outputs": [
    {
     "data": {
      "text/html": [
       "<div>\n",
       "<table border=\"1\" class=\"dataframe\">\n",
       "  <thead>\n",
       "    <tr style=\"text-align: right;\">\n",
       "      <th></th>\n",
       "      <th>playerID</th>\n",
       "      <th>birthYear</th>\n",
       "      <th>birthMonth</th>\n",
       "      <th>birthDay</th>\n",
       "      <th>birthCountry</th>\n",
       "      <th>birthState</th>\n",
       "      <th>birthCity</th>\n",
       "      <th>deathYear</th>\n",
       "      <th>deathMonth</th>\n",
       "      <th>deathDay</th>\n",
       "      <th>...</th>\n",
       "      <th>weight</th>\n",
       "      <th>height</th>\n",
       "      <th>bats</th>\n",
       "      <th>throws</th>\n",
       "      <th>debut</th>\n",
       "      <th>finalGame</th>\n",
       "      <th>retroID</th>\n",
       "      <th>bbrefID</th>\n",
       "      <th>careerLength</th>\n",
       "      <th>StateWeather</th>\n",
       "    </tr>\n",
       "  </thead>\n",
       "  <tbody>\n",
       "    <tr>\n",
       "      <th>0</th>\n",
       "      <td>aardsda01</td>\n",
       "      <td>1981.0</td>\n",
       "      <td>12.0</td>\n",
       "      <td>27.0</td>\n",
       "      <td>USA</td>\n",
       "      <td>CO</td>\n",
       "      <td>Denver</td>\n",
       "      <td>NaN</td>\n",
       "      <td>NaN</td>\n",
       "      <td>NaN</td>\n",
       "      <td>...</td>\n",
       "      <td>205.0</td>\n",
       "      <td>75.0</td>\n",
       "      <td>R</td>\n",
       "      <td>R</td>\n",
       "      <td>2004-04-06</td>\n",
       "      <td>2013-09-28</td>\n",
       "      <td>aardd001</td>\n",
       "      <td>aardsda01</td>\n",
       "      <td>3462 days</td>\n",
       "      <td>False</td>\n",
       "    </tr>\n",
       "  </tbody>\n",
       "</table>\n",
       "<p>1 rows × 26 columns</p>\n",
       "</div>"
      ],
      "text/plain": [
       "    playerID  birthYear  birthMonth  birthDay birthCountry birthState  \\\n",
       "0  aardsda01     1981.0        12.0      27.0          USA         CO   \n",
       "\n",
       "  birthCity  deathYear  deathMonth  deathDay     ...      weight height bats  \\\n",
       "0    Denver        NaN         NaN       NaN     ...       205.0   75.0    R   \n",
       "\n",
       "  throws      debut  finalGame   retroID    bbrefID careerLength StateWeather  \n",
       "0      R 2004-04-06 2013-09-28  aardd001  aardsda01    3462 days        False  \n",
       "\n",
       "[1 rows x 26 columns]"
      ]
     },
     "execution_count": 11,
     "metadata": {},
     "output_type": "execute_result"
    }
   ],
   "source": [
    "fileMaster.head(1)"
   ]
  },
  {
   "cell_type": "code",
   "execution_count": 12,
   "metadata": {
    "collapsed": false
   },
   "outputs": [
    {
     "name": "stdout",
     "output_type": "stream",
     "text": [
      "<class 'pandas.core.frame.DataFrame'>\n",
      "RangeIndex: 99846 entries, 0 to 99845\n",
      "Data columns (total 22 columns):\n",
      "playerID    99846 non-null object\n",
      "yearID      99846 non-null int64\n",
      "stint       99846 non-null int64\n",
      "teamID      99846 non-null object\n",
      "lgID        99109 non-null object\n",
      "G           99846 non-null int64\n",
      "AB          94697 non-null float64\n",
      "R           94697 non-null float64\n",
      "H           94697 non-null float64\n",
      "2B          94697 non-null float64\n",
      "3B          94697 non-null float64\n",
      "HR          94697 non-null float64\n",
      "RBI         94273 non-null float64\n",
      "SB          93397 non-null float64\n",
      "CS          71243 non-null float64\n",
      "BB          94697 non-null float64\n",
      "SO          86859 non-null float64\n",
      "IBB         58134 non-null float64\n",
      "HBP         91887 non-null float64\n",
      "SH          88359 non-null float64\n",
      "SF          58665 non-null float64\n",
      "GIDP        68589 non-null float64\n",
      "dtypes: float64(16), int64(3), object(3)\n",
      "memory usage: 15.6+ MB\n"
     ]
    }
   ],
   "source": [
    "fileBatting.info()"
   ]
  },
  {
   "cell_type": "markdown",
   "metadata": {},
   "source": [
    "We can now look to round out the batting dataframe of the data.\n",
    "For this there are a number of common statistics i.e. batting average, on-base percentage, slugging and OPS+ that are not included in the data. Also, we will add one measurement which is a product of AB's and OPS+, which attempts to model the contributed offensive effort are player added in a season. It is this measurement that we will use to measure value added by a players contribution. In a more  comprehensive dataset this would be known as \"WAR\" or wins-above-replacement.\n",
    "\n",
    "*Generally, these statistics are rounded to 3 decimal places for presentation.\n",
    "\n",
    "**The below resulting dataframe essentially gives us performance by player by season."
   ]
  },
  {
   "cell_type": "code",
   "execution_count": 13,
   "metadata": {
    "collapsed": false
   },
   "outputs": [],
   "source": [
    "def c_num(s):\n",
    "    try:\n",
    "        return float(s)\n",
    "    except Exception:\n",
    "        return 0\n",
    "def f_Avg(AB, H):\n",
    "    return round(H / AB,3)\n",
    "def f_Obp(H,BB,IBB,HBP,SF,AB):\n",
    "    n = (H + BB + HBP)\n",
    "    d = (AB + BB + HBP + SF)\n",
    "    return round(n / d,3)\n",
    "def f_Slug(H, Dbl, Trpl, HR, AB):\n",
    "    return round(((H - Dbl - Trpl - HR) + (Dbl * 2) + (Trpl * 3) + (HR * 4)) / AB,3)"
   ]
  },
  {
   "cell_type": "markdown",
   "metadata": {},
   "source": [
    "Now these calculation will be used in calculating the dataframe."
   ]
  },
  {
   "cell_type": "code",
   "execution_count": 14,
   "metadata": {
    "collapsed": false
   },
   "outputs": [],
   "source": [
    "# Insert common hitting statistics into batting dataframe\n",
    "fileBatting.fillna(0, inplace=True)\n",
    "fileBatting['statBA'] = fileBatting.apply(lambda row: f_Avg(row['AB'],row['H']) if row['AB'] != 0 else 0, axis=1)\n",
    "fileBatting['statOBP'] = fileBatting.apply(lambda row: f_Obp(row['H'],row['BB'],row['IBB'],row['HBP'],row['SF'],row['AB']) if (row['AB']+ row['BB'] + row['HBP'] + row['SF']) != 0 else 0, axis=1)\n",
    "fileBatting['statSLUG'] = fileBatting.apply(lambda row: f_Slug(row['H'],row['2B'],row['3B'],row['HR'],row['AB']) if row['AB'] != 0 else 0, axis=1)\n",
    "fileBatting['statOPS+'] = fileBatting['statOBP'] + fileBatting['statSLUG']\n",
    "fileBatting['statOpsWght'] = fileBatting.apply(lambda row: (row['statOPS+'] * row['AB']), axis=1)"
   ]
  },
  {
   "cell_type": "markdown",
   "metadata": {},
   "source": [
    "Now we'd like to begin performing some useful analysis/comparisons. In order to do so we will need to summarize this data across multiple seasons, teams & stats.\n",
    "\n",
    "First, we will outline the stats we will summarize."
   ]
  },
  {
   "cell_type": "code",
   "execution_count": 15,
   "metadata": {
    "collapsed": true
   },
   "outputs": [],
   "source": [
    "stats_to_summarize = {\n",
    "    # 'G':0,\n",
    "    # 'AB':0,\n",
    "    'R':0,\n",
    "    'H':0,\n",
    "    '2B':0,\n",
    "    '3B':0,\n",
    "    'HR':0,\n",
    "    'BB':0,\n",
    "    'RBI':0,\n",
    "    'SO':0,\n",
    "    'IBB':0,\n",
    "    'HBP':0,\n",
    "    'SH':0,\n",
    "    'SF':0\n",
    "    # 'lgAvg':[]\n",
    "    # 'lgObp':[]\n",
    "    # 'lgSlug':[]\n",
    "    # 'lgOps+':[]\n",
    "    # 'lgOpsWght':[]\n",
    "}"
   ]
  },
  {
   "cell_type": "markdown",
   "metadata": {},
   "source": [
    "Now lets summarize the data into a dataframe with both the master and batting data. Merging on the 'playerID' field will give us the desired result."
   ]
  },
  {
   "cell_type": "code",
   "execution_count": 16,
   "metadata": {
    "collapsed": false
   },
   "outputs": [
    {
     "data": {
      "text/html": [
       "<div>\n",
       "<table border=\"1\" class=\"dataframe\">\n",
       "  <thead>\n",
       "    <tr style=\"text-align: right;\">\n",
       "      <th></th>\n",
       "      <th>playerID</th>\n",
       "      <th>birthYear</th>\n",
       "      <th>birthMonth</th>\n",
       "      <th>birthDay</th>\n",
       "      <th>birthCountry</th>\n",
       "      <th>birthState</th>\n",
       "      <th>birthCity</th>\n",
       "      <th>deathYear</th>\n",
       "      <th>deathMonth</th>\n",
       "      <th>deathDay</th>\n",
       "      <th>...</th>\n",
       "      <th>IBB</th>\n",
       "      <th>HBP</th>\n",
       "      <th>SH</th>\n",
       "      <th>SF</th>\n",
       "      <th>GIDP</th>\n",
       "      <th>statBA</th>\n",
       "      <th>statOBP</th>\n",
       "      <th>statSLUG</th>\n",
       "      <th>statOPS+</th>\n",
       "      <th>statOpsWght</th>\n",
       "    </tr>\n",
       "  </thead>\n",
       "  <tbody>\n",
       "    <tr>\n",
       "      <th>0</th>\n",
       "      <td>aardsda01</td>\n",
       "      <td>1981.0</td>\n",
       "      <td>12.0</td>\n",
       "      <td>27.0</td>\n",
       "      <td>USA</td>\n",
       "      <td>CO</td>\n",
       "      <td>Denver</td>\n",
       "      <td>NaN</td>\n",
       "      <td>NaN</td>\n",
       "      <td>NaN</td>\n",
       "      <td>...</td>\n",
       "      <td>0.0</td>\n",
       "      <td>0.0</td>\n",
       "      <td>0.0</td>\n",
       "      <td>0.0</td>\n",
       "      <td>0.0</td>\n",
       "      <td>0.0</td>\n",
       "      <td>0.0</td>\n",
       "      <td>0.0</td>\n",
       "      <td>0.0</td>\n",
       "      <td>0.0</td>\n",
       "    </tr>\n",
       "  </tbody>\n",
       "</table>\n",
       "<p>1 rows × 52 columns</p>\n",
       "</div>"
      ],
      "text/plain": [
       "    playerID  birthYear  birthMonth  birthDay birthCountry birthState  \\\n",
       "0  aardsda01     1981.0        12.0      27.0          USA         CO   \n",
       "\n",
       "  birthCity  deathYear  deathMonth  deathDay     ...      IBB  HBP   SH   SF  \\\n",
       "0    Denver        NaN         NaN       NaN     ...      0.0  0.0  0.0  0.0   \n",
       "\n",
       "  GIDP statBA  statOBP  statSLUG statOPS+ statOpsWght  \n",
       "0  0.0    0.0      0.0       0.0      0.0         0.0  \n",
       "\n",
       "[1 rows x 52 columns]"
      ]
     },
     "execution_count": 16,
     "metadata": {},
     "output_type": "execute_result"
    }
   ],
   "source": [
    "master_player_season = pd.merge(fileMaster, fileBatting, on='playerID', how='outer')\n",
    "master_player_season.head(1)"
   ]
  },
  {
   "cell_type": "markdown",
   "metadata": {},
   "source": [
    "We will also add a TRUE/FALSE column for MVP award.."
   ]
  },
  {
   "cell_type": "markdown",
   "metadata": {},
   "source": [
    "What different type of awards are in this dataset? (fileAwards)"
   ]
  },
  {
   "cell_type": "code",
   "execution_count": 17,
   "metadata": {
    "collapsed": false,
    "scrolled": true
   },
   "outputs": [
    {
     "data": {
      "text/plain": [
       "array(['Pitching Triple Crown', 'Triple Crown',\n",
       "       'Baseball Magazine All-Star', 'Most Valuable Player',\n",
       "       'TSN All-Star', 'TSN Guide MVP',\n",
       "       'TSN Major League Player of the Year', 'TSN Pitcher of the Year',\n",
       "       'TSN Player of the Year', 'Rookie of the Year', 'Babe Ruth Award',\n",
       "       'Lou Gehrig Memorial Award', 'World Series MVP', 'Cy Young Award',\n",
       "       'Gold Glove', 'TSN Fireman of the Year', 'All-Star Game MVP',\n",
       "       'Hutch Award', 'Roberto Clemente Award', 'Rolaids Relief Man Award',\n",
       "       'NLCS MVP', 'ALCS MVP', 'Silver Slugger', 'Branch Rickey Award',\n",
       "       'Hank Aaron Award', 'TSN Reliever of the Year',\n",
       "       'Comeback Player of the Year'], dtype=object)"
      ]
     },
     "execution_count": 17,
     "metadata": {},
     "output_type": "execute_result"
    }
   ],
   "source": [
    "fileAwards.awardID.unique()"
   ]
  },
  {
   "cell_type": "markdown",
   "metadata": {},
   "source": [
    "As we want \"Most Valuable Player\" (in each respective league) we can code this as so.."
   ]
  },
  {
   "cell_type": "code",
   "execution_count": 18,
   "metadata": {
    "collapsed": false
   },
   "outputs": [],
   "source": [
    "subMast = master_player_season[['playerID', 'yearID']]\n",
    "subAwad = fileAwards.query('awardID==\"Most Valuable Player\"')[['playerID', 'yearID']]\n",
    "master_player_season.loc[pd.merge(subMast, subAwad, on=['playerID', 'yearID'], right_index=True).index, 'MVP'] = 1\n",
    "master_player_season['MVP'].fillna(0, inplace=True)"
   ]
  },
  {
   "cell_type": "code",
   "execution_count": 19,
   "metadata": {
    "collapsed": false
   },
   "outputs": [
    {
     "data": {
      "text/plain": [
       "<matplotlib.axes._subplots.AxesSubplot at 0x7f98350>"
      ]
     },
     "execution_count": 19,
     "metadata": {},
     "output_type": "execute_result"
    },
    {
     "data": {
      "image/png": "[encoded data removed]",
      "text/plain": [
       "<matplotlib.figure.Figure at 0x5df09d0>"
      ]
     },
     "metadata": {},
     "output_type": "display_data"
    }
   ],
   "source": [
    "mp1 = master_player_season[['statOpsWght','yearID', 'playerID', 'MVP']].groupby(['statOpsWght','yearID']).sum().reset_index()\n",
    "ax = mp1.query('MVP==1').plot.scatter(x='yearID', y='statOpsWght', color='Blue', label='MVPs')\n",
    "mp1.query('MVP==0').plot.scatter(x='yearID', y='statOpsWght', color='Green', label='Non-MVPs', ax=ax)"
   ]
  },
  {
   "cell_type": "markdown",
   "metadata": {},
   "source": [
    "For a cleaner look at the data lets look at the top 5 for each season."
   ]
  },
  {
   "cell_type": "code",
   "execution_count": 20,
   "metadata": {
    "collapsed": false
   },
   "outputs": [
    {
     "data": {
      "text/plain": [
       "<matplotlib.axes._subplots.AxesSubplot at 0x8f60650>"
      ]
     },
     "execution_count": 20,
     "metadata": {},
     "output_type": "execute_result"
    },
    {
     "data": {
      "image/png": "[encoded data removed]",
      "text/plain": [
       "<matplotlib.figure.Figure at 0x7f98570>"
      ]
     },
     "metadata": {},
     "output_type": "display_data"
    }
   ],
   "source": [
    "mp1 = master_player_season[['statOpsWght','yearID','playerID','MVP']].groupby('yearID').apply(lambda dfg: dfg.nlargest(5, 'statOpsWght')).reset_index(drop=True)\n",
    "ax = mp1.query('MVP==1').plot.scatter(x='yearID', y='statOpsWght', color='Blue', label='MVPs')\n",
    "mp1.query('MVP==0').plot.scatter(x='yearID', y='statOpsWght', color='Green', label='Non-MVPs', ax=ax)"
   ]
  },
  {
   "cell_type": "markdown",
   "metadata": {},
   "source": [
    "Things we can denote from the above plot:\n",
    "1) MVP awards were not given out until ~1917 season.\n",
    "2) The # of baseball games and therefore the # of at bats didn't start to rise until the late 1800's. The game also saw another considerable jump in ~1923.\n",
    "3) There were a few strike shortened seasons that shortened the # of games played."
   ]
  },
  {
   "cell_type": "markdown",
   "metadata": {},
   "source": [
    "You can see from the above that the columns on the end were what we calculated in the batting column and them as well as other batting fields have been layered onto the master data.\n",
    "\n",
    "Next, we can begin summarizing at the team level.\n",
    "\n",
    "*We instantiate new functions for avg/obp/slug here as were are looking up based on 2 variables."
   ]
  },
  {
   "cell_type": "code",
   "execution_count": 21,
   "metadata": {
    "collapsed": true
   },
   "outputs": [],
   "source": [
    "def f_Parse_AVG(yr, team):\n",
    "    tmp = fileBatting[(fileBatting.teamID == team) & (fileBatting.yearID == yr)].sum()\n",
    "    H = tmp['H']\n",
    "    AB = tmp['AB']\n",
    "    return f_Avg(AB, H)\n",
    "def f_Parse_OBP(yr, team):\n",
    "    tmp = fileBatting[(fileBatting.teamID == team) & (fileBatting.yearID == yr)].sum()\n",
    "    H = tmp['H']\n",
    "    BB = tmp['BB']\n",
    "    IBB = tmp['IBB']\n",
    "    HBP = tmp['HBP']\n",
    "    SF = tmp['SF']\n",
    "    AB = tmp['AB']\n",
    "    return f_Obp(H,BB,IBB,HBP,SF,AB)\n",
    "def f_Parse_SLUG(yr, team):\n",
    "    tmp = fileBatting[(fileBatting.teamID == team) & (fileBatting.yearID == yr)].sum()\n",
    "    H = tmp['H']\n",
    "    AB = tmp['AB']\n",
    "    Dbl = tmp['2B']\n",
    "    Trpl = tmp['3B']\n",
    "    HR = tmp['HR']\n",
    "    return f_Slug(H,Dbl,Trpl,HR,AB)\n"
   ]
  },
  {
   "cell_type": "code",
   "execution_count": 22,
   "metadata": {
    "collapsed": true
   },
   "outputs": [],
   "source": [
    "def unique_team_season():\n",
    "    tms = fileBatting[['yearID', 'teamID']].copy()\n",
    "    tms.drop_duplicates(inplace=True)   \n",
    "    tms['team_BA'] = tms.apply(lambda w: f_Parse_AVG(w['yearID'],w['teamID']), axis=1)\n",
    "    tms['team_OBP'] = tms.apply(lambda w: f_Parse_OBP(w['yearID'],w['teamID']), axis=1)\n",
    "    tms['team_SLUG'] = tms.apply(lambda w: f_Parse_SLUG(w['yearID'],w['teamID']), axis=1)\n",
    "    tms['team_OPS+'] = tms['team_OBP'] + tms['team_SLUG']\n",
    "    tms['team_OpsWght'] = tms.apply(lambda w: (w['team_OPS+'] * fileBatting[(fileBatting.teamID == w['teamID']) & (fileBatting.yearID == w['yearID'])].sum()['AB']), axis=1)\n",
    "    return tms"
   ]
  },
  {
   "cell_type": "code",
   "execution_count": 23,
   "metadata": {
    "collapsed": false
   },
   "outputs": [
    {
     "data": {
      "text/html": [
       "<div>\n",
       "<table border=\"1\" class=\"dataframe\">\n",
       "  <thead>\n",
       "    <tr style=\"text-align: right;\">\n",
       "      <th></th>\n",
       "      <th>yearID</th>\n",
       "      <th>teamID</th>\n",
       "      <th>team_BA</th>\n",
       "      <th>team_OBP</th>\n",
       "      <th>team_SLUG</th>\n",
       "      <th>team_OPS+</th>\n",
       "      <th>team_OpsWght</th>\n",
       "    </tr>\n",
       "  </thead>\n",
       "  <tbody>\n",
       "    <tr>\n",
       "      <th>0</th>\n",
       "      <td>1871</td>\n",
       "      <td>TRO</td>\n",
       "      <td>0.308</td>\n",
       "      <td>0.334</td>\n",
       "      <td>0.417</td>\n",
       "      <td>0.751</td>\n",
       "      <td>937.248</td>\n",
       "    </tr>\n",
       "  </tbody>\n",
       "</table>\n",
       "</div>"
      ],
      "text/plain": [
       "   yearID teamID  team_BA  team_OBP  team_SLUG  team_OPS+  team_OpsWght\n",
       "0    1871    TRO    0.308     0.334      0.417      0.751       937.248"
      ]
     },
     "execution_count": 23,
     "metadata": {},
     "output_type": "execute_result"
    }
   ],
   "source": [
    "team_stat_summary = unique_team_season()\n",
    "team_stat_summary.head(1)"
   ]
  },
  {
   "cell_type": "markdown",
   "metadata": {},
   "source": [
    "From the finished result above we have the relevent metrics each team outputted by season.\n",
    "\n",
    "This is critical in our next step as we look to compare an individuals performance by that of his teammates."
   ]
  },
  {
   "cell_type": "code",
   "execution_count": 24,
   "metadata": {
    "collapsed": false
   },
   "outputs": [],
   "source": [
    "master_player_team = pd.merge(master_player_season, team_stat_summary, on=['yearID','teamID'], how='outer')\n",
    "master_player_team['%_team_OPS+'] = master_player_team['statOpsWght'] / master_player_team['team_OpsWght']"
   ]
  },
  {
   "cell_type": "code",
   "execution_count": 25,
   "metadata": {
    "collapsed": false
   },
   "outputs": [
    {
     "data": {
      "text/html": [
       "<div>\n",
       "<table border=\"1\" class=\"dataframe\">\n",
       "  <thead>\n",
       "    <tr style=\"text-align: right;\">\n",
       "      <th></th>\n",
       "      <th>playerID</th>\n",
       "      <th>birthYear</th>\n",
       "      <th>birthMonth</th>\n",
       "      <th>birthDay</th>\n",
       "      <th>birthCountry</th>\n",
       "      <th>birthState</th>\n",
       "      <th>birthCity</th>\n",
       "      <th>deathYear</th>\n",
       "      <th>deathMonth</th>\n",
       "      <th>deathDay</th>\n",
       "      <th>...</th>\n",
       "      <th>statSLUG</th>\n",
       "      <th>statOPS+</th>\n",
       "      <th>statOpsWght</th>\n",
       "      <th>MVP</th>\n",
       "      <th>team_BA</th>\n",
       "      <th>team_OBP</th>\n",
       "      <th>team_SLUG</th>\n",
       "      <th>team_OPS+</th>\n",
       "      <th>team_OpsWght</th>\n",
       "      <th>%_team_OPS+</th>\n",
       "    </tr>\n",
       "  </thead>\n",
       "  <tbody>\n",
       "    <tr>\n",
       "      <th>0</th>\n",
       "      <td>aardsda01</td>\n",
       "      <td>1981.0</td>\n",
       "      <td>12.0</td>\n",
       "      <td>27.0</td>\n",
       "      <td>USA</td>\n",
       "      <td>CO</td>\n",
       "      <td>Denver</td>\n",
       "      <td>NaN</td>\n",
       "      <td>NaN</td>\n",
       "      <td>NaN</td>\n",
       "      <td>...</td>\n",
       "      <td>0.0</td>\n",
       "      <td>0.0</td>\n",
       "      <td>0.0</td>\n",
       "      <td>0.0</td>\n",
       "      <td>0.27</td>\n",
       "      <td>0.357</td>\n",
       "      <td>0.438</td>\n",
       "      <td>0.795</td>\n",
       "      <td>4409.07</td>\n",
       "      <td>0.0</td>\n",
       "    </tr>\n",
       "  </tbody>\n",
       "</table>\n",
       "<p>1 rows × 59 columns</p>\n",
       "</div>"
      ],
      "text/plain": [
       "    playerID  birthYear  birthMonth  birthDay birthCountry birthState  \\\n",
       "0  aardsda01     1981.0        12.0      27.0          USA         CO   \n",
       "\n",
       "  birthCity  deathYear  deathMonth  deathDay     ...     statSLUG statOPS+  \\\n",
       "0    Denver        NaN         NaN       NaN     ...          0.0      0.0   \n",
       "\n",
       "  statOpsWght  MVP team_BA team_OBP  team_SLUG  team_OPS+ team_OpsWght  \\\n",
       "0         0.0  0.0    0.27    0.357      0.438      0.795      4409.07   \n",
       "\n",
       "  %_team_OPS+  \n",
       "0         0.0  \n",
       "\n",
       "[1 rows x 59 columns]"
      ]
     },
     "execution_count": 25,
     "metadata": {},
     "output_type": "execute_result"
    }
   ],
   "source": [
    "master_player_team.head(1)"
   ]
  },
  {
   "cell_type": "markdown",
   "metadata": {},
   "source": [
    "Next, we need a procedure that will pull a unique list of  years (from batting data) and summarize across the league how players performed in that particular season."
   ]
  },
  {
   "cell_type": "code",
   "execution_count": 26,
   "metadata": {
    "collapsed": false
   },
   "outputs": [],
   "source": [
    "def season_stat_compiliation():\n",
    "    dicBat = {}\n",
    "    for year in pd.unique(fileBatting.yearID.ravel()):\n",
    "        dicBat[float(year)] = season_offense_summary(year)\n",
    "    return pd.DataFrame.from_dict(dicBat)"
   ]
  },
  {
   "cell_type": "code",
   "execution_count": 27,
   "metadata": {
    "collapsed": false
   },
   "outputs": [],
   "source": [
    "def season_offense_summary(year):\n",
    "    dicSum = {}\n",
    "    dicSum['Players'] = len(fileBatting.loc[fileBatting['yearID'] == year])\n",
    "    dicSum['Teams'] = len(pd.unique(fileBatting.loc[(fileBatting['yearID'] == year), 'teamID'].ravel()))\n",
    "    dicSum['AB'] = fileBatting.loc[(fileBatting['yearID'] == year), 'AB'].sum()\n",
    "    dicSum['G'] = fileBatting.loc[(fileBatting['yearID'] == year), 'G'].sum()\n",
    "    for stat in stats_to_summarize.keys():\n",
    "        dicSum[stat] = fileBatting.loc[(fileBatting['yearID'] == year), stat].sum()\n",
    "        dicSum[stat + '_G'] = round(fileBatting.loc[(fileBatting['yearID'] == year), stat].sum() / dicSum['G'],4)\n",
    "        dicSum[stat + '_AB'] = round(fileBatting.loc[(fileBatting['yearID'] == year), stat].sum() / dicSum['AB'],4)\n",
    "    dicSum['lgAvg'] = f_Avg(dicSum['AB'],dicSum['H'])\n",
    "    dicSum['lgObp'] = f_Obp(dicSum['H'],dicSum['BB'],dicSum['IBB'], dicSum['HBP'],dicSum['SF'],dicSum['AB'])\n",
    "    dicSum['lgSlug'] = f_Slug(dicSum['H'],dicSum['2B'],dicSum['3B'],dicSum['HR'],dicSum['AB'])\n",
    "    dicSum['lgOps+'] = dicSum['lgObp'] + dicSum['lgSlug']\n",
    "    dicSum['lgOpsWght'] = dicSum['AB'] * dicSum['lgOps+']\n",
    "    dicSum['lgOpsWghtAvg'] = dicSum['lgOpsWght'] / (9 * dicSum['Teams'])\n",
    "    \n",
    "    return dicSum"
   ]
  },
  {
   "cell_type": "markdown",
   "metadata": {},
   "source": [
    "We can then run the above."
   ]
  },
  {
   "cell_type": "code",
   "execution_count": 28,
   "metadata": {
    "collapsed": false
   },
   "outputs": [],
   "source": [
    "league_stat_summary = season_stat_compiliation()"
   ]
  },
  {
   "cell_type": "code",
   "execution_count": 30,
   "metadata": {
    "collapsed": false
   },
   "outputs": [
    {
     "data": {
      "text/plain": [
       "{dtype('float64'): Float64Index([1871.0, 1872.0, 1873.0, 1874.0, 1875.0, 1876.0, 1877.0, 1878.0,\n",
       "               1879.0, 1880.0,\n",
       "               ...\n",
       "               2005.0, 2006.0, 2007.0, 2008.0, 2009.0, 2010.0, 2011.0, 2012.0,\n",
       "               2013.0, 2014.0],\n",
       "              dtype='float64', length=144)}"
      ]
     },
     "execution_count": 30,
     "metadata": {},
     "output_type": "execute_result"
    }
   ],
   "source": [
    "g = league_stat_summary.columns.to_series().groupby(league_stat_summary.dtypes).groups\n",
    "g"
   ]
  },
  {
   "cell_type": "code",
   "execution_count": 31,
   "metadata": {
    "collapsed": false
   },
   "outputs": [
    {
     "name": "stdout",
     "output_type": "stream",
     "text": [
      "<class 'pandas.core.frame.DataFrame'>\n",
      "Int64Index: 100030 entries, 0 to 100029\n",
      "Data columns (total 59 columns):\n",
      "playerID        100030 non-null object\n",
      "birthYear       99842 non-null float64\n",
      "birthMonth      99457 non-null float64\n",
      "birthDay        99090 non-null float64\n",
      "birthCountry    99940 non-null object\n",
      "birthState      96616 non-null object\n",
      "birthCity       99534 non-null object\n",
      "deathYear       43150 non-null float64\n",
      "deathMonth      43149 non-null float64\n",
      "deathDay        43147 non-null float64\n",
      "deathCountry    43147 non-null object\n",
      "deathState      42933 non-null object\n",
      "deathCity       43129 non-null object\n",
      "nameFirst       99989 non-null object\n",
      "nameLast        100030 non-null object\n",
      "nameGiven       99989 non-null object\n",
      "weight          98689 non-null float64\n",
      "height          98752 non-null float64\n",
      "bats            97990 non-null object\n",
      "throws          98450 non-null object\n",
      "debut           99840 non-null datetime64[ns]\n",
      "finalGame       100030 non-null datetime64[ns]\n",
      "retroID         99976 non-null object\n",
      "bbrefID         100029 non-null object\n",
      "careerLength    99840 non-null timedelta64[ns]\n",
      "StateWeather    100030 non-null bool\n",
      "yearID          99846 non-null float64\n",
      "stint           99846 non-null float64\n",
      "teamID          99846 non-null object\n",
      "lgID            99846 non-null object\n",
      "G               99846 non-null float64\n",
      "AB              99846 non-null float64\n",
      "R               99846 non-null float64\n",
      "H               99846 non-null float64\n",
      "2B              99846 non-null float64\n",
      "3B              99846 non-null float64\n",
      "HR              99846 non-null float64\n",
      "RBI             99846 non-null float64\n",
      "SB              99846 non-null float64\n",
      "CS              99846 non-null float64\n",
      "BB              99846 non-null float64\n",
      "SO              99846 non-null float64\n",
      "IBB             99846 non-null float64\n",
      "HBP             99846 non-null float64\n",
      "SH              99846 non-null float64\n",
      "SF              99846 non-null float64\n",
      "GIDP            99846 non-null float64\n",
      "statBA          99846 non-null float64\n",
      "statOBP         99846 non-null float64\n",
      "statSLUG        99846 non-null float64\n",
      "statOPS+        99846 non-null float64\n",
      "statOpsWght     99846 non-null float64\n",
      "MVP             100030 non-null float64\n",
      "team_BA         99846 non-null float64\n",
      "team_OBP        99846 non-null float64\n",
      "team_SLUG       99846 non-null float64\n",
      "team_OPS+       99846 non-null float64\n",
      "team_OpsWght    99846 non-null float64\n",
      "%_team_OPS+     99846 non-null float64\n",
      "dtypes: bool(1), datetime64[ns](2), float64(39), object(16), timedelta64[ns](1)\n",
      "memory usage: 39.0+ MB\n"
     ]
    }
   ],
   "source": [
    "master_player_team.info()"
   ]
  },
  {
   "cell_type": "markdown",
   "metadata": {},
   "source": [
    "In the above we've now created a 'master' relations dataframe from individual & team data. From this dataframe we've gone ahead and calculated a % column to calculate the portion of value (OPS weighted) of the player as % of the overall team's output.\n",
    "\n",
    "Below are atleast some initial insights that are quite interesting."
   ]
  },
  {
   "cell_type": "code",
   "execution_count": 32,
   "metadata": {
    "collapsed": false
   },
   "outputs": [
    {
     "data": {
      "text/plain": [
       "<matplotlib.axes._subplots.AxesSubplot at 0x8186df0>"
      ]
     },
     "execution_count": 32,
     "metadata": {},
     "output_type": "execute_result"
    },
    {
     "data": {
      "image/png": "[encoded data removed]",
      "text/plain": [
       "<matplotlib.figure.Figure at 0x8ce0a90>"
      ]
     },
     "metadata": {},
     "output_type": "display_data"
    }
   ],
   "source": [
    "master_player_team[['%_team_OPS+','yearID', 'playerID']].plot.hexbin(x='yearID', y='%_team_OPS+',gridsize=5, cmap=\"inferno\")"
   ]
  },
  {
   "cell_type": "markdown",
   "metadata": {},
   "source": [
    "The above plot provides context as to the # of data points and a range of percent of team contribution within a time context. Similarly with the postive insight this provides, this also sheds light that the expansion of baseball has truly grown over time. The concept of expansion either could further this analysis or detract from it in away not yet understood."
   ]
  },
  {
   "cell_type": "code",
   "execution_count": 33,
   "metadata": {
    "collapsed": false
   },
   "outputs": [],
   "source": [
    "def df_lookup(ind):\n",
    "    return '%s %s @ %s in %s' % (master_player_team.ix[ind, 'nameFirst'], \\\n",
    "                             master_player_team.ix[ind, 'nameLast'], \\\n",
    "                             round(master_player_team.ix[ind, '%_team_OPS+'],3), \\\n",
    "                             master_player_team.ix[ind, 'yearID'])"
   ]
  },
  {
   "cell_type": "code",
   "execution_count": 34,
   "metadata": {
    "collapsed": false
   },
   "outputs": [
    {
     "name": "stdout",
     "output_type": "stream",
     "text": [
      "Sammy Sosa @ 0.164 in 2001.0\n"
     ]
    }
   ],
   "source": [
    "time_filter = 1970\n",
    "placement = master_player_team.loc[(master_player_team['yearID']>time_filter),'%_team_OPS+'].argmax()\n",
    "print df_lookup(placement)"
   ]
  },
  {
   "cell_type": "markdown",
   "metadata": {},
   "source": [
    "Now we can grab some answers to our questions."
   ]
  },
  {
   "cell_type": "markdown",
   "metadata": {},
   "source": [
    "<a id='#question1'></a>\n",
    "### In terms of individual and team performance, what were some of the greatest individual offensive seasons in terms of contribution to overall team play? (an equivocal MVP)"
   ]
  },
  {
   "cell_type": "code",
   "execution_count": 35,
   "metadata": {
    "collapsed": false
   },
   "outputs": [
    {
     "data": {
      "text/html": [
       "<div>\n",
       "<table border=\"1\" class=\"dataframe\">\n",
       "  <thead>\n",
       "    <tr style=\"text-align: right;\">\n",
       "      <th></th>\n",
       "      <th>playerID</th>\n",
       "      <th>nameFirst</th>\n",
       "      <th>nameLast</th>\n",
       "      <th>%_team_OPS+</th>\n",
       "      <th>yearID</th>\n",
       "      <th>MVP</th>\n",
       "    </tr>\n",
       "  </thead>\n",
       "  <tbody>\n",
       "    <tr>\n",
       "      <th>72023</th>\n",
       "      <td>musiast01</td>\n",
       "      <td>Stan</td>\n",
       "      <td>Musial</td>\n",
       "      <td>0.182107</td>\n",
       "      <td>1948.0</td>\n",
       "      <td>1.0</td>\n",
       "    </tr>\n",
       "    <tr>\n",
       "      <th>93237</th>\n",
       "      <td>cobbty01</td>\n",
       "      <td>Ty</td>\n",
       "      <td>Cobb</td>\n",
       "      <td>0.174210</td>\n",
       "      <td>1917.0</td>\n",
       "      <td>0.0</td>\n",
       "    </tr>\n",
       "    <tr>\n",
       "      <th>13890</th>\n",
       "      <td>lajoina01</td>\n",
       "      <td>Nap</td>\n",
       "      <td>Lajoie</td>\n",
       "      <td>0.173805</td>\n",
       "      <td>1910.0</td>\n",
       "      <td>0.0</td>\n",
       "    </tr>\n",
       "    <tr>\n",
       "      <th>100028</th>\n",
       "      <td>stonege01</td>\n",
       "      <td>George</td>\n",
       "      <td>Stone</td>\n",
       "      <td>0.172135</td>\n",
       "      <td>1906.0</td>\n",
       "      <td>0.0</td>\n",
       "    </tr>\n",
       "    <tr>\n",
       "      <th>80988</th>\n",
       "      <td>kleinch01</td>\n",
       "      <td>Chuck</td>\n",
       "      <td>Klein</td>\n",
       "      <td>0.169715</td>\n",
       "      <td>1933.0</td>\n",
       "      <td>0.0</td>\n",
       "    </tr>\n",
       "  </tbody>\n",
       "</table>\n",
       "</div>"
      ],
      "text/plain": [
       "         playerID nameFirst nameLast  %_team_OPS+  yearID  MVP\n",
       "72023   musiast01      Stan   Musial     0.182107  1948.0  1.0\n",
       "93237    cobbty01        Ty     Cobb     0.174210  1917.0  0.0\n",
       "13890   lajoina01       Nap   Lajoie     0.173805  1910.0  0.0\n",
       "100028  stonege01    George    Stone     0.172135  1906.0  0.0\n",
       "80988   kleinch01     Chuck    Klein     0.169715  1933.0  0.0"
      ]
     },
     "execution_count": 35,
     "metadata": {},
     "output_type": "execute_result"
    }
   ],
   "source": [
    "master_player_team[(master_player_team.yearID > 1901)].sort_values('%_team_OPS+', ascending=False).head(5)[['playerID','nameFirst', 'nameLast', '%_team_OPS+', 'yearID', 'MVP']]"
   ]
  },
  {
   "cell_type": "markdown",
   "metadata": {},
   "source": [
    "From the above table we can see than Stan Musial's 1948 season was the most of a single team's offensive output in any season (looking at teams after 1900). If you take a look at the 1948 Cardinals season, you will see that Stan's MVP season truly stood out from the rest.\n",
    "\n",
    "http://www.baseball-reference.com/teams/STL/1948.shtml"
   ]
  },
  {
   "cell_type": "markdown",
   "metadata": {},
   "source": [
    "<a id='#question2'></a>\n",
    "### What players, over the course of their careers, had constantly faced the above matched environment?"
   ]
  },
  {
   "cell_type": "code",
   "execution_count": 36,
   "metadata": {
    "collapsed": false
   },
   "outputs": [
    {
     "data": {
      "text/plain": [
       "playerID\n",
       "abreujo02    0.136576\n",
       "pujolal01    0.132539\n",
       "cabremi01    0.128744\n",
       "aaronha01    0.127516\n",
       "mccutan01    0.127388\n",
       "dtype: float64"
      ]
     },
     "execution_count": 36,
     "metadata": {},
     "output_type": "execute_result"
    }
   ],
   "source": [
    "Ser1 = master_player_team[(master_player_team.debut > date(year=1901,month=1,day=1))].groupby(['playerID'])['statOpsWght'].sum().iloc[0:]\n",
    "Ser2 = master_player_team[(master_player_team.debut > date(year=1901,month=1,day=1))].groupby(['playerID'])['team_OpsWght'].sum().iloc[0:]\n",
    "Ser_Result = Ser1/Ser2\n",
    "Ser_Result.sort_values(ascending=False, inplace=True)\n",
    "Ser_Result.head(5)"
   ]
  },
  {
   "cell_type": "code",
   "execution_count": 37,
   "metadata": {
    "collapsed": false
   },
   "outputs": [],
   "source": [
    "#master_player_team[(master_player_team['playerID'] == 'johnsbo01')][['playerID', 'nameGiven', 'nameLast']]"
   ]
  },
  {
   "cell_type": "markdown",
   "metadata": {},
   "source": [
    "Interestingly enough, the top 10 is as follows:\n",
    "Jose Abreu\n",
    "Albert Pujols\n",
    "Miguel Cabrera\n",
    "Hank Aaron\n",
    "Andrew Mccutchen\n",
    "Kirby Pucket\n",
    "Robert Johnson\n",
    "Stan Musial\n",
    "Ty Cobb\n",
    "Joe Dimaggio\n",
    "\n",
    "Firstly, the top ranked player, Jose Abreu, is in the 4th year of his career; however, because we are dealing with 2014 data this only recognizes Jose's stellar rookie season (one in which, the Chicago White Sox were also a bad team offensively). The next player on the list, Albert Pujols, may go down as one of the greatest players of all-time when his career is over. On one hand, Albert's place on this list is supported by the superiority of his offensive numbers but also because of the lack of a truly defined 'partner', of which, he was able to share the offensive load. In reflection of his career the Cardinals were able to build success during his time from a stellar pitching staff, Albert and a collection of 'league-average' offensive support at many positions."
   ]
  },
  {
   "cell_type": "markdown",
   "metadata": {},
   "source": [
    "<a id='#question3'></a>\n",
    "## How often was the MVP winner the leader in this statistic?\n",
    "\n",
    "i.e. How often was an MVP given to the process identified above?"
   ]
  },
  {
   "cell_type": "code",
   "execution_count": 38,
   "metadata": {
    "collapsed": false
   },
   "outputs": [
    {
     "data": {
      "text/plain": [
       "0.174"
      ]
     },
     "execution_count": 38,
     "metadata": {},
     "output_type": "execute_result"
    }
   ],
   "source": [
    "#master_player_team[(master_player_team.debut > date(year=1900,month=1,day=1))].groupby(['yearID','lgID'])[['%_team_OPS+', 'playerID', 'MVP']].max()\n",
    "question3 = master_player_team[(master_player_team.debut > date(year=1901,month=1,day=1))].\\\n",
    "ix[master_player_team[(master_player_team.debut > date(year=1901,month=1,day=1))].\\\n",
    "   groupby(['yearID','lgID'])['%_team_OPS+'].idxmax()][['yearID','lgID','%_team_OPS+', 'playerID', 'MVP']]\n",
    "\n",
    "round(question3['MVP'].sum() / len(question3.index),3)"
   ]
  },
  {
   "cell_type": "markdown",
   "metadata": {},
   "source": [
    "Only 17% of the time since 1901 has the league MVP (AL or NL) been also the highest rated per this statistic."
   ]
  },
  {
   "cell_type": "markdown",
   "metadata": {},
   "source": [
    "<a id='#question4'></a>\n",
    "## How did team's fare that matched this particular condition? Can a player truly \"carry\" the load?\n",
    "\n",
    "One of the key components of this question will be in determining the threshhold, at which, a significant portion of the team's offensive output came from 1 player. "
   ]
  },
  {
   "cell_type": "code",
   "execution_count": 39,
   "metadata": {
    "collapsed": false
   },
   "outputs": [],
   "source": [
    "decision_point = .13\n",
    "fileTeam['Reliant'] = fileTeam.apply(lambda row: True if master_player_team.loc[(row['yearID'] == master_player_team.yearID) & (row['teamID'] == master_player_team.teamID),'%_team_OPS+'].max() > decision_point else False, axis=1)"
   ]
  },
  {
   "cell_type": "code",
   "execution_count": 40,
   "metadata": {
    "collapsed": false
   },
   "outputs": [
    {
     "data": {
      "text/html": [
       "<div>\n",
       "<table border=\"1\" class=\"dataframe\">\n",
       "  <thead>\n",
       "    <tr style=\"text-align: right;\">\n",
       "      <th></th>\n",
       "      <th>yearID</th>\n",
       "      <th>teamID</th>\n",
       "      <th>W</th>\n",
       "      <th>L</th>\n",
       "      <th>Reliant</th>\n",
       "      <th>playerID</th>\n",
       "      <th>birthYear</th>\n",
       "      <th>birthMonth</th>\n",
       "      <th>birthDay</th>\n",
       "      <th>birthCountry</th>\n",
       "      <th>...</th>\n",
       "      <th>statSLUG</th>\n",
       "      <th>statOPS+</th>\n",
       "      <th>statOpsWght</th>\n",
       "      <th>MVP</th>\n",
       "      <th>team_BA</th>\n",
       "      <th>team_OBP</th>\n",
       "      <th>team_SLUG</th>\n",
       "      <th>team_OPS+</th>\n",
       "      <th>team_OpsWght</th>\n",
       "      <th>%_team_OPS+</th>\n",
       "    </tr>\n",
       "  </thead>\n",
       "  <tbody>\n",
       "    <tr>\n",
       "      <th>0</th>\n",
       "      <td>1871.0</td>\n",
       "      <td>BS1</td>\n",
       "      <td>20.0</td>\n",
       "      <td>10.0</td>\n",
       "      <td>True</td>\n",
       "      <td>barnero01</td>\n",
       "      <td>1850.0</td>\n",
       "      <td>5.0</td>\n",
       "      <td>8.0</td>\n",
       "      <td>USA</td>\n",
       "      <td>...</td>\n",
       "      <td>0.58</td>\n",
       "      <td>1.027</td>\n",
       "      <td>161.239</td>\n",
       "      <td>0.0</td>\n",
       "      <td>0.31</td>\n",
       "      <td>0.339</td>\n",
       "      <td>0.422</td>\n",
       "      <td>0.761</td>\n",
       "      <td>1044.092</td>\n",
       "      <td>0.15443</td>\n",
       "    </tr>\n",
       "  </tbody>\n",
       "</table>\n",
       "<p>1 rows × 62 columns</p>\n",
       "</div>"
      ],
      "text/plain": [
       "   yearID teamID     W     L Reliant   playerID  birthYear  birthMonth  \\\n",
       "0  1871.0    BS1  20.0  10.0    True  barnero01     1850.0         5.0   \n",
       "\n",
       "   birthDay birthCountry     ...     statSLUG statOPS+  statOpsWght  MVP  \\\n",
       "0       8.0          USA     ...         0.58    1.027      161.239  0.0   \n",
       "\n",
       "   team_BA team_OBP team_SLUG team_OPS+ team_OpsWght %_team_OPS+  \n",
       "0     0.31    0.339     0.422     0.761     1044.092     0.15443  \n",
       "\n",
       "[1 rows x 62 columns]"
      ]
     },
     "execution_count": 40,
     "metadata": {},
     "output_type": "execute_result"
    }
   ],
   "source": [
    "master_player_team = pd.merge(fileTeam.loc[:,['yearID','teamID','W','L','Reliant']], master_player_team, on=['yearID', 'teamID'], how='outer')\n",
    "master_player_team.head(1)"
   ]
  },
  {
   "cell_type": "code",
   "execution_count": 41,
   "metadata": {
    "collapsed": false
   },
   "outputs": [
    {
     "name": "stdout",
     "output_type": "stream",
     "text": [
      "0.513 winning percentage for teams reliant on 1 good player\n"
     ]
    }
   ],
   "source": [
    "df_temp = master_player_team[(master_player_team.yearID > 1901)].groupby(['Reliant','teamID','yearID']).mean()[['W','L']]\n",
    "print(str(round(df_temp.query('Reliant == True').sum()['W'] / (df_temp.query('Reliant == True').sum()['W'] + df_temp.query('Reliant == True').sum()['L']),3)) + ' winning percentage for teams reliant on 1 good player')"
   ]
  },
  {
   "cell_type": "markdown",
   "metadata": {},
   "source": [
    "From the above we can see that, over the course of time, if anyone player on the team contributed > 13% the team's offensive output, these teams had a slightly higher winning percentage. Now, this doesn't permit causation, as many factors can be contributed to this result; however, the prevalence of one player being this significant can't be ingnored as the nature of \"theres no I in team\" is being brought into focus. One could surmize that maybe because one player is so significantly relied upon, the rest of the team can focus on being \"average\" or doing their part for the betterment of the team."
   ]
  },
  {
   "cell_type": "markdown",
   "metadata": {},
   "source": [
    "## Limits/Reflections"
   ]
  },
  {
   "cell_type": "markdown",
   "metadata": {},
   "source": [
    "The above process attempts to outline an approach that helps to distinguish 'exceptional' offense performance. With that, there resides many limitations with data as well as some differing ways in how this could've been approached. For instance, the data is in a traditional format of being summarized at a yearly level. In the interest of how baseball data can be summarized there could be many levels of detail below this including: game by game data, batter/pitch data, etc. Following this trend we can also see the effect of varying seasons when we summarize at this level. As mentioned in the above outlined questions, there sometimes isn't an apples to apples comparison of a player who's OPS was 1.013 in only 32 at bats vs. a player who's OPS was .813 in 600 at bats. Some of these yearly comparisons would be at no fault to the data detail process as players get injured and miss time as well as being promoted midway thru a season. In the basis of this project, a statistical test was not used in determining exceptional offense performance (which was the prevelant theme of the questions). The main basis for this approach was that we were looking to test a dependent variable and not neccessarily that outcome/effect of an independent variable. An independent/dependent variable relationship was examined at the end in regards to teams that 'fit' the criteria of relying on 1 player vs. not. Additional data or analysis that could be supported or provided maybe in the area of 'smoothing' or 'machine learning' in regards to incomplete seasons or grossly inhibited seasons."
   ]
  },
  {
   "cell_type": "code",
   "execution_count": null,
   "metadata": {
    "collapsed": true
   },
   "outputs": [],
   "source": []
  }
 ],
 "metadata": {
  "anaconda-cloud": {},
  "kernelspec": {
   "display_name": "Python [conda env:py27]",
   "language": "python",
   "name": "conda-env-py27-py"
  },
  "language_info": {
   "codemirror_mode": {
    "name": "ipython",
    "version": 2
   },
   "file_extension": ".py",
   "mimetype": "text/x-python",
   "name": "python",
   "nbconvert_exporter": "python",
   "pygments_lexer": "ipython2",
   "version": "2.7.13"
  }
 },
 "nbformat": 4,
 "nbformat_minor": 2
}
